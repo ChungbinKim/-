{
  "nbformat": 4,
  "nbformat_minor": 0,
  "metadata": {
    "accelerator": "TPU",
    "colab": {
      "name": "summarization_local_ver03.ipynb",
      "provenance": [],
      "collapsed_sections": [
        "M8SegT7SHfuT",
        "4RqgSNOJHfuV",
        "l7-jFdWhHfuV",
        "era7UjDaHfuZ",
        "HyzUzUimHfuc",
        "ujTyBhjQHfud"
      ],
      "toc_visible": true,
      "include_colab_link": true
    },
    "kernelspec": {
      "display_name": "TensorFlow 2.4 on Python 3.8 (CUDA 11.1)",
      "language": "python",
      "name": "python3"
    },
    "language_info": {
      "codemirror_mode": {
        "name": "ipython",
        "version": 3
      },
      "file_extension": ".py",
      "mimetype": "text/x-python",
      "name": "python",
      "nbconvert_exporter": "python",
      "pygments_lexer": "ipython3",
      "version": "3.8.8"
    }
  },
  "cells": [
    {
      "cell_type": "markdown",
      "metadata": {
        "id": "view-in-github",
        "colab_type": "text"
      },
      "source": [
        "<a href=\"https://colab.research.google.com/github/ChungbinKim/-/blob/master/summarization_local_ver03.ipynb\" target=\"_parent\"><img src=\"https://colab.research.google.com/assets/colab-badge.svg\" alt=\"Open In Colab\"/></a>"
      ]
    },
    {
      "cell_type": "markdown",
      "metadata": {
        "id": "qOlGk1UAvmbs"
      },
      "source": [
        "### Update summary\n",
        "1. 실제 원문보다 대폭 길이를 줄인 준실제원문을 이용한 학습\n",
        "    - 제1조 ~ 제4조와 같이 모든 이용약관에 공통적으로 포함되어 있는 조항들을 제거\n",
        "    - 수정된 요약문\n",
        "    \n",
        "    \n",
        "2. (계획) 지나치게 중복되는 단어들을 Vocab에서 제거하여 학습.\n",
        "    - 가장 많이 등장하는 단어들이 요약문에 그대로 추출되는 문제가 있음."
      ]
    },
    {
      "cell_type": "markdown",
      "metadata": {
        "id": "c8_V_lGavmbw"
      },
      "source": [
        "### Environment Description\n",
        "\n",
        "- CPU\n",
        "    - name : Intel(R) Xeon(R) Gold 6248 CPU @ 2.50GHz\n",
        "    - cores : (using) 8\n",
        "- GPU\n",
        "    - NVIDIA GV102\n",
        "- Memory\n",
        "    - 16.0G\n",
        "\n",
        "### Requirements\n",
        "\n",
        "- Python : 3.8\n",
        "- TensorFlow : 2.4"
      ]
    },
    {
      "cell_type": "markdown",
      "metadata": {
        "id": "6MGKnJ1mHfuD"
      },
      "source": [
        "# Load Data"
      ]
    },
    {
      "cell_type": "code",
      "metadata": {
        "id": "9dQnVAhIHfuL"
      },
      "source": [
        "import gc\n",
        "import os\n",
        "import shutil\n",
        "import re\n",
        "import json\n",
        "import pickle\n",
        "import glob\n",
        "import pandas as pd\n",
        "import numpy as np\n",
        "import tqdm"
      ],
      "execution_count": null,
      "outputs": []
    },
    {
      "cell_type": "code",
      "metadata": {
        "id": "ZK4sf3pwvmby"
      },
      "source": [
        "gc.enable()"
      ],
      "execution_count": null,
      "outputs": []
    },
    {
      "cell_type": "code",
      "metadata": {
        "id": "fjZi8Bt6vmbz"
      },
      "source": [
        "if os.path.exists('data'):\n",
        "    pass\n",
        "else:\n",
        "    os.mkdir('data')"
      ],
      "execution_count": null,
      "outputs": []
    },
    {
      "cell_type": "code",
      "metadata": {
        "id": "DvxbTNMjvmbz"
      },
      "source": [
        "# text 파일은 모두 data 폴더 아래에 있어야 합니다.\n",
        "\n",
        "raw_dic = {}\n",
        "sum_dic = {}\n",
        "regex_id = '[0-9]+[_]'\n",
        "\n",
        "for file in glob.glob('./data/*'):\n",
        "    try:\n",
        "        id_ = re.findall(regex_id, file)[0].replace('_', '')\n",
        "        if '_raw2' in file:\n",
        "            with open(file) as f:\n",
        "                sentence = ' '.join([line for line in f.readlines()])\n",
        "                raw_dic[id_] = sentence\n",
        "        elif '_summary' in file:\n",
        "            with open(file) as f:\n",
        "                sentence = ' '.join([line for line in f.readlines()])\n",
        "                sum_dic[id_] = sentence\n",
        "    except:\n",
        "        pass"
      ],
      "execution_count": null,
      "outputs": []
    },
    {
      "cell_type": "markdown",
      "metadata": {
        "id": "HDIoev64vmb0"
      },
      "source": [
        "#### (참고) data 전처리 시간을 줄이기 위해 모든 text(원문, 요약문)를 각각 하나의 pickle 파일로 저장"
      ]
    },
    {
      "cell_type": "code",
      "metadata": {
        "id": "X0k961unvmb1"
      },
      "source": [
        "# save for pickle format\n",
        "with open('./data/raw2.pickle', 'wb') as f:\n",
        "     pickle.dump(raw_dic, f)\n",
        "    \n",
        "with open('./data/summary.pickle', 'wb') as f:\n",
        "     pickle.dump(sum_dic, f)"
      ],
      "execution_count": null,
      "outputs": []
    },
    {
      "cell_type": "code",
      "metadata": {
        "id": "-P6abfBovmb1"
      },
      "source": [
        "#  load pickle format\n",
        "with open('./data/raw2.pickle', 'rb') as f:\n",
        "     raw_data = pickle.load(f)\n",
        "\n",
        "with open('./data/summary.pickle', 'rb') as f:\n",
        "     summary_data = pickle.load(f)"
      ],
      "execution_count": null,
      "outputs": []
    },
    {
      "cell_type": "markdown",
      "metadata": {
        "id": "Kiof0K6Zvmb2"
      },
      "source": [
        "#### 원문, 요약문을 하나의 csv 파일로 저장"
      ]
    },
    {
      "cell_type": "code",
      "metadata": {
        "id": "PDodo9bUoYup"
      },
      "source": [
        "raw_df = pd.DataFrame.from_dict(raw_dic, orient='index')\n",
        "summary_df = pd.DataFrame.from_dict(sum_dic, orient='index')"
      ],
      "execution_count": null,
      "outputs": []
    },
    {
      "cell_type": "code",
      "metadata": {
        "id": "1JHatkP7oMwi"
      },
      "source": [
        "raw_data = pd.merge(raw_df, summary_df, left_index=True, right_index=True, how='inner').reset_index(drop=True)"
      ],
      "execution_count": null,
      "outputs": []
    },
    {
      "cell_type": "code",
      "metadata": {
        "id": "rAWyM0MUoMtz",
        "colab": {
          "base_uri": "https://localhost:8080/",
          "height": 351
        },
        "outputId": "17142d0a-2f28-4d91-cf47-70a351b340b2"
      },
      "source": [
        "raw_data.columns=['raw_text', 'raw_summary']"
      ],
      "execution_count": null,
      "outputs": [
        {
          "output_type": "error",
          "ename": "ValueError",
          "evalue": "ignored",
          "traceback": [
            "\u001b[0;31m---------------------------------------------------------------------------\u001b[0m",
            "\u001b[0;31mValueError\u001b[0m                                Traceback (most recent call last)",
            "\u001b[0;32m<ipython-input-24-1403cde40dd6>\u001b[0m in \u001b[0;36m<module>\u001b[0;34m()\u001b[0m\n\u001b[0;32m----> 1\u001b[0;31m \u001b[0mraw_data\u001b[0m\u001b[0;34m.\u001b[0m\u001b[0mcolumns\u001b[0m\u001b[0;34m=\u001b[0m\u001b[0;34m[\u001b[0m\u001b[0;34m'raw_text'\u001b[0m\u001b[0;34m,\u001b[0m \u001b[0;34m'raw_summary'\u001b[0m\u001b[0;34m]\u001b[0m\u001b[0;34m\u001b[0m\u001b[0;34m\u001b[0m\u001b[0m\n\u001b[0m",
            "\u001b[0;32m/usr/local/lib/python3.7/dist-packages/pandas/core/generic.py\u001b[0m in \u001b[0;36m__setattr__\u001b[0;34m(self, name, value)\u001b[0m\n\u001b[1;32m   5152\u001b[0m         \u001b[0;32mtry\u001b[0m\u001b[0;34m:\u001b[0m\u001b[0;34m\u001b[0m\u001b[0;34m\u001b[0m\u001b[0m\n\u001b[1;32m   5153\u001b[0m             \u001b[0mobject\u001b[0m\u001b[0;34m.\u001b[0m\u001b[0m__getattribute__\u001b[0m\u001b[0;34m(\u001b[0m\u001b[0mself\u001b[0m\u001b[0;34m,\u001b[0m \u001b[0mname\u001b[0m\u001b[0;34m)\u001b[0m\u001b[0;34m\u001b[0m\u001b[0;34m\u001b[0m\u001b[0m\n\u001b[0;32m-> 5154\u001b[0;31m             \u001b[0;32mreturn\u001b[0m \u001b[0mobject\u001b[0m\u001b[0;34m.\u001b[0m\u001b[0m__setattr__\u001b[0m\u001b[0;34m(\u001b[0m\u001b[0mself\u001b[0m\u001b[0;34m,\u001b[0m \u001b[0mname\u001b[0m\u001b[0;34m,\u001b[0m \u001b[0mvalue\u001b[0m\u001b[0;34m)\u001b[0m\u001b[0;34m\u001b[0m\u001b[0;34m\u001b[0m\u001b[0m\n\u001b[0m\u001b[1;32m   5155\u001b[0m         \u001b[0;32mexcept\u001b[0m \u001b[0mAttributeError\u001b[0m\u001b[0;34m:\u001b[0m\u001b[0;34m\u001b[0m\u001b[0;34m\u001b[0m\u001b[0m\n\u001b[1;32m   5156\u001b[0m             \u001b[0;32mpass\u001b[0m\u001b[0;34m\u001b[0m\u001b[0;34m\u001b[0m\u001b[0m\n",
            "\u001b[0;32mpandas/_libs/properties.pyx\u001b[0m in \u001b[0;36mpandas._libs.properties.AxisProperty.__set__\u001b[0;34m()\u001b[0m\n",
            "\u001b[0;32m/usr/local/lib/python3.7/dist-packages/pandas/core/generic.py\u001b[0m in \u001b[0;36m_set_axis\u001b[0;34m(self, axis, labels)\u001b[0m\n\u001b[1;32m    562\u001b[0m     \u001b[0;32mdef\u001b[0m \u001b[0m_set_axis\u001b[0m\u001b[0;34m(\u001b[0m\u001b[0mself\u001b[0m\u001b[0;34m,\u001b[0m \u001b[0maxis\u001b[0m\u001b[0;34m:\u001b[0m \u001b[0mint\u001b[0m\u001b[0;34m,\u001b[0m \u001b[0mlabels\u001b[0m\u001b[0;34m:\u001b[0m \u001b[0mIndex\u001b[0m\u001b[0;34m)\u001b[0m \u001b[0;34m->\u001b[0m \u001b[0;32mNone\u001b[0m\u001b[0;34m:\u001b[0m\u001b[0;34m\u001b[0m\u001b[0;34m\u001b[0m\u001b[0m\n\u001b[1;32m    563\u001b[0m         \u001b[0mlabels\u001b[0m \u001b[0;34m=\u001b[0m \u001b[0mensure_index\u001b[0m\u001b[0;34m(\u001b[0m\u001b[0mlabels\u001b[0m\u001b[0;34m)\u001b[0m\u001b[0;34m\u001b[0m\u001b[0;34m\u001b[0m\u001b[0m\n\u001b[0;32m--> 564\u001b[0;31m         \u001b[0mself\u001b[0m\u001b[0;34m.\u001b[0m\u001b[0m_mgr\u001b[0m\u001b[0;34m.\u001b[0m\u001b[0mset_axis\u001b[0m\u001b[0;34m(\u001b[0m\u001b[0maxis\u001b[0m\u001b[0;34m,\u001b[0m \u001b[0mlabels\u001b[0m\u001b[0;34m)\u001b[0m\u001b[0;34m\u001b[0m\u001b[0;34m\u001b[0m\u001b[0m\n\u001b[0m\u001b[1;32m    565\u001b[0m         \u001b[0mself\u001b[0m\u001b[0;34m.\u001b[0m\u001b[0m_clear_item_cache\u001b[0m\u001b[0;34m(\u001b[0m\u001b[0;34m)\u001b[0m\u001b[0;34m\u001b[0m\u001b[0;34m\u001b[0m\u001b[0m\n\u001b[1;32m    566\u001b[0m \u001b[0;34m\u001b[0m\u001b[0m\n",
            "\u001b[0;32m/usr/local/lib/python3.7/dist-packages/pandas/core/internals/managers.py\u001b[0m in \u001b[0;36mset_axis\u001b[0;34m(self, axis, new_labels)\u001b[0m\n\u001b[1;32m    225\u001b[0m         \u001b[0;32mif\u001b[0m \u001b[0mnew_len\u001b[0m \u001b[0;34m!=\u001b[0m \u001b[0mold_len\u001b[0m\u001b[0;34m:\u001b[0m\u001b[0;34m\u001b[0m\u001b[0;34m\u001b[0m\u001b[0m\n\u001b[1;32m    226\u001b[0m             raise ValueError(\n\u001b[0;32m--> 227\u001b[0;31m                 \u001b[0;34mf\"Length mismatch: Expected axis has {old_len} elements, new \"\u001b[0m\u001b[0;34m\u001b[0m\u001b[0;34m\u001b[0m\u001b[0m\n\u001b[0m\u001b[1;32m    228\u001b[0m                 \u001b[0;34mf\"values have {new_len} elements\"\u001b[0m\u001b[0;34m\u001b[0m\u001b[0;34m\u001b[0m\u001b[0m\n\u001b[1;32m    229\u001b[0m             )\n",
            "\u001b[0;31mValueError\u001b[0m: Length mismatch: Expected axis has 0 elements, new values have 2 elements"
          ]
        }
      ]
    },
    {
      "cell_type": "code",
      "metadata": {
        "scrolled": false,
        "id": "LyDYI56Cvmb4"
      },
      "source": [
        "raw_data.to_csv('data/raw_data.csv', index=False)"
      ],
      "execution_count": null,
      "outputs": []
    },
    {
      "cell_type": "markdown",
      "metadata": {
        "id": "fbjuUG8sHfuO"
      },
      "source": [
        "# Data Cleansing"
      ]
    },
    {
      "cell_type": "markdown",
      "metadata": {
        "id": "NqaqVAxcvmb4"
      },
      "source": [
        "### 한글 형태소 분석을 위해서 Konlpy 모듈 설치\n",
        "\n",
        "- (참고) python 3.8 이상에서는 konlpy가 import 되지 않는 경우가 종종 있음.\n",
        "- (해결방법_1) jpype1 모듈을 강제로 1.0.2 버전으로 다운그레이\n",
        "- (해결방법_2) colab 환경에서 작업 ← **추천!**"
      ]
    },
    {
      "cell_type": "code",
      "metadata": {
        "colab": {
          "base_uri": "https://localhost:8080/"
        },
        "id": "p8dFJ9z0Ia84",
        "outputId": "c9ab6ee6-9956-49dc-ee4f-30ecaf761003"
      },
      "source": [
        " !pip install konlpy"
      ],
      "execution_count": null,
      "outputs": [
        {
          "output_type": "stream",
          "text": [
            "Collecting konlpy\n",
            "\u001b[?25l  Downloading https://files.pythonhosted.org/packages/85/0e/f385566fec837c0b83f216b2da65db9997b35dd675e107752005b7d392b1/konlpy-0.5.2-py2.py3-none-any.whl (19.4MB)\n",
            "\u001b[K     |████████████████████████████████| 19.4MB 1.8MB/s \n",
            "\u001b[?25hRequirement already satisfied: numpy>=1.6 in /usr/local/lib/python3.7/dist-packages (from konlpy) (1.19.5)\n",
            "Collecting colorama\n",
            "  Downloading https://files.pythonhosted.org/packages/44/98/5b86278fbbf250d239ae0ecb724f8572af1c91f4a11edf4d36a206189440/colorama-0.4.4-py2.py3-none-any.whl\n",
            "Collecting JPype1>=0.7.0\n",
            "\u001b[?25l  Downloading https://files.pythonhosted.org/packages/cd/a5/9781e2ef4ca92d09912c4794642c1653aea7607f473e156cf4d423a881a1/JPype1-1.2.1-cp37-cp37m-manylinux2010_x86_64.whl (457kB)\n",
            "\u001b[K     |████████████████████████████████| 460kB 30.0MB/s \n",
            "\u001b[?25hCollecting beautifulsoup4==4.6.0\n",
            "\u001b[?25l  Downloading https://files.pythonhosted.org/packages/9e/d4/10f46e5cfac773e22707237bfcd51bbffeaf0a576b0a847ec7ab15bd7ace/beautifulsoup4-4.6.0-py3-none-any.whl (86kB)\n",
            "\u001b[K     |████████████████████████████████| 92kB 7.6MB/s \n",
            "\u001b[?25hRequirement already satisfied: lxml>=4.1.0 in /usr/local/lib/python3.7/dist-packages (from konlpy) (4.2.6)\n",
            "Requirement already satisfied: tweepy>=3.7.0 in /usr/local/lib/python3.7/dist-packages (from konlpy) (3.10.0)\n",
            "Requirement already satisfied: typing-extensions; python_version < \"3.8\" in /usr/local/lib/python3.7/dist-packages (from JPype1>=0.7.0->konlpy) (3.7.4.3)\n",
            "Requirement already satisfied: requests-oauthlib>=0.7.0 in /usr/local/lib/python3.7/dist-packages (from tweepy>=3.7.0->konlpy) (1.3.0)\n",
            "Requirement already satisfied: requests[socks]>=2.11.1 in /usr/local/lib/python3.7/dist-packages (from tweepy>=3.7.0->konlpy) (2.23.0)\n",
            "Requirement already satisfied: six>=1.10.0 in /usr/local/lib/python3.7/dist-packages (from tweepy>=3.7.0->konlpy) (1.15.0)\n",
            "Requirement already satisfied: oauthlib>=3.0.0 in /usr/local/lib/python3.7/dist-packages (from requests-oauthlib>=0.7.0->tweepy>=3.7.0->konlpy) (3.1.0)\n",
            "Requirement already satisfied: urllib3!=1.25.0,!=1.25.1,<1.26,>=1.21.1 in /usr/local/lib/python3.7/dist-packages (from requests[socks]>=2.11.1->tweepy>=3.7.0->konlpy) (1.24.3)\n",
            "Requirement already satisfied: idna<3,>=2.5 in /usr/local/lib/python3.7/dist-packages (from requests[socks]>=2.11.1->tweepy>=3.7.0->konlpy) (2.10)\n",
            "Requirement already satisfied: chardet<4,>=3.0.2 in /usr/local/lib/python3.7/dist-packages (from requests[socks]>=2.11.1->tweepy>=3.7.0->konlpy) (3.0.4)\n",
            "Requirement already satisfied: certifi>=2017.4.17 in /usr/local/lib/python3.7/dist-packages (from requests[socks]>=2.11.1->tweepy>=3.7.0->konlpy) (2020.12.5)\n",
            "Requirement already satisfied: PySocks!=1.5.7,>=1.5.6; extra == \"socks\" in /usr/local/lib/python3.7/dist-packages (from requests[socks]>=2.11.1->tweepy>=3.7.0->konlpy) (1.7.1)\n",
            "Installing collected packages: colorama, JPype1, beautifulsoup4, konlpy\n",
            "  Found existing installation: beautifulsoup4 4.6.3\n",
            "    Uninstalling beautifulsoup4-4.6.3:\n",
            "      Successfully uninstalled beautifulsoup4-4.6.3\n",
            "Successfully installed JPype1-1.2.1 beautifulsoup4-4.6.0 colorama-0.4.4 konlpy-0.5.2\n"
          ],
          "name": "stdout"
        }
      ]
    },
    {
      "cell_type": "code",
      "metadata": {
        "colab": {
          "base_uri": "https://localhost:8080/"
        },
        "id": "_ssd3Js3vmb5",
        "outputId": "9ee3e783-46dc-4f58-97ec-6bbb70eddedb"
      },
      "source": [
        " !pip install jpype1==1.0.2"
      ],
      "execution_count": null,
      "outputs": [
        {
          "output_type": "stream",
          "text": [
            "Collecting jpype1==1.0.2\n",
            "\u001b[?25l  Downloading https://files.pythonhosted.org/packages/67/c1/d7b769b4ef2b79f2467bc9b5f8f2cc9cd344d3849c7601a2edd9868048d8/JPype1-1.0.2-cp37-cp37m-manylinux2010_x86_64.whl (3.8MB)\n",
            "\u001b[K     |████████████████████████████████| 3.8MB 6.3MB/s \n",
            "\u001b[?25hRequirement already satisfied: typing-extensions; python_version < \"3.8\" in /usr/local/lib/python3.7/dist-packages (from jpype1==1.0.2) (3.7.4.3)\n",
            "Installing collected packages: jpype1\n",
            "  Found existing installation: JPype1 1.2.1\n",
            "    Uninstalling JPype1-1.2.1:\n",
            "      Successfully uninstalled JPype1-1.2.1\n",
            "Successfully installed jpype1-1.0.2\n"
          ],
          "name": "stdout"
        }
      ]
    },
    {
      "cell_type": "markdown",
      "metadata": {
        "id": "dOGN1JxDvmb6"
      },
      "source": [
        "### Check vocab composition(word - frequency)"
      ]
    },
    {
      "cell_type": "code",
      "metadata": {
        "colab": {
          "base_uri": "https://localhost:8080/"
        },
        "id": "IpL82PYs09YK",
        "outputId": "7aa3e6b1-c6c9-4c6f-84b4-f47100eb5a24"
      },
      "source": [
        "from google.colab import drive\n",
        "drive.mount('/content/drive')"
      ],
      "execution_count": null,
      "outputs": [
        {
          "output_type": "stream",
          "text": [
            "Mounted at /content/drive\n"
          ],
          "name": "stdout"
        }
      ]
    },
    {
      "cell_type": "code",
      "metadata": {
        "id": "gGbWcDga0tFc"
      },
      "source": [
        "raw_data = pd.read_csv('data/raw_data.csv')"
      ],
      "execution_count": null,
      "outputs": []
    },
    {
      "cell_type": "code",
      "metadata": {
        "id": "0HruzV5XHfuO"
      },
      "source": [
        "import re\n",
        "from konlpy.tag import Okt, Twitter, Komoran\n",
        "from matplotlib import pyplot as plt\n",
        "from matplotlib import gridspec\n",
        "import numpy as np"
      ],
      "execution_count": null,
      "outputs": []
    },
    {
      "cell_type": "markdown",
      "metadata": {
        "id": "YewnCrmNvmb7"
      },
      "source": [
        "#### (참고) 확실한 명사를 추출하기 위해 가장 tag를 세밀하게 나눌 수 있는 Komoran 형태소 분석기 사용"
      ]
    },
    {
      "cell_type": "code",
      "metadata": {
        "id": "IRuggLjxvmb7"
      },
      "source": [
        "# okt = Okt()\n",
        "# twt = Twitter()\n",
        "komoran = Komoran()"
      ],
      "execution_count": null,
      "outputs": []
    },
    {
      "cell_type": "markdown",
      "metadata": {
        "id": "xPjJHl3Mvmb8"
      },
      "source": [
        "#### (참고) 한국어 불용어 사전을 아래 링크로부터 참조하여 사용"
      ]
    },
    {
      "cell_type": "code",
      "metadata": {
        "id": "YnUH02sm6c8x"
      },
      "source": [
        "# stop words reference : https://www.ranks.nl/stopwords/korean\n",
        "stop_words = []\n",
        "with open('./k_stop_words.txt', 'r') as f:\n",
        "    for word in f.readlines():\n",
        "        stop_words.append(word.strip())"
      ],
      "execution_count": null,
      "outputs": []
    },
    {
      "cell_type": "code",
      "metadata": {
        "id": "xbu1Jwo8vmb8"
      },
      "source": [
        "def make_vocab(data):\n",
        "    vocab = {}\n",
        "    regex = re.compile('[^\\d\\w\\b ]+')\n",
        "    for sent in tqdm.tqdm(data):\n",
        "        sentence = re.sub(regex, '', sent)\n",
        "        for word, pos in komoran.pos(sentence):\n",
        "            if word not in stop_words and pos in ('NNG', 'NNP'):\n",
        "                try:\n",
        "                    vocab[word] += 1\n",
        "                except:\n",
        "                    vocab[word] = 1\n",
        "                    \n",
        "    return sorted(vocab.items(),key=lambda x : x[1], reverse=True)"
      ],
      "execution_count": null,
      "outputs": []
    },
    {
      "cell_type": "code",
      "metadata": {
        "colab": {
          "base_uri": "https://localhost:8080/"
        },
        "id": "ESvD53uovmb9",
        "outputId": "35436fc6-82e9-40bd-f54b-5213a1da23e2"
      },
      "source": [
        "raw_vocab = make_vocab(raw_data['raw_text'])\n",
        "summary_vocab = make_vocab(raw_data['raw_summary'])"
      ],
      "execution_count": null,
      "outputs": [
        {
          "output_type": "stream",
          "text": [
            "100%|██████████| 125/125 [00:22<00:00,  5.64it/s]\n",
            "100%|██████████| 125/125 [00:01<00:00, 71.72it/s]\n"
          ],
          "name": "stderr"
        }
      ]
    },
    {
      "cell_type": "markdown",
      "metadata": {
        "id": "F6559bkxvmb9"
      },
      "source": [
        "#### 원문, 요약문에서 등장하는 단어들의 누적 빈도수 - vocab"
      ]
    },
    {
      "cell_type": "code",
      "metadata": {
        "id": "hmUCsDDTvmb-"
      },
      "source": [
        "raw_word_freq = np.array([v for _, v in raw_vocab])\n",
        "summary_word_freq = np.array([v for _, v in summary_vocab])"
      ],
      "execution_count": null,
      "outputs": []
    },
    {
      "cell_type": "markdown",
      "metadata": {
        "id": "Kf0D09b2vmb-"
      },
      "source": [
        "### 200번 이상 등장한 단어는 제거"
      ]
    },
    {
      "cell_type": "code",
      "metadata": {
        "id": "VTLGOURLvmb-"
      },
      "source": [
        "stop_words2 = []\n",
        "for i in np.where(raw_word_freq>=200)[0]:\n",
        "    stop_words2.append(raw_vocab[i][0])"
      ],
      "execution_count": null,
      "outputs": []
    },
    {
      "cell_type": "markdown",
      "metadata": {
        "id": "0o8g9ayzvmb_"
      },
      "source": [
        "#### (참고) 원문 vocab 분포에서 상위 90% 빈도수의 위치 시각화"
      ]
    },
    {
      "cell_type": "code",
      "metadata": {
        "scrolled": false,
        "id": "N6TVkfkQvmb_",
        "colab": {
          "base_uri": "https://localhost:8080/",
          "height": 373
        },
        "outputId": "9048920e-382f-4a04-947c-92eff67ca179"
      },
      "source": [
        "fig, ax = plt.subplots(1, 2, gridspec_kw={'width_ratios':[2, 12]}, figsize=(10, 5))\n",
        "\n",
        "ax[0].boxplot(raw_word_freq)\n",
        "ax[1].plot(raw_word_freq)\n",
        "ax[1].axvline(np.quantile(raw_word_freq, 0.9), color='red')\n",
        "fig.suptitle('Distribution of Raw sentence')\n",
        "fig.tight_layout()\n",
        "plt.show()"
      ],
      "execution_count": null,
      "outputs": [
        {
          "output_type": "display_data",
          "data": {
            "image/png": "[encoded data removed]",
            "text/plain": [
              "<Figure size 720x360 with 2 Axes>"
            ]
          },
          "metadata": {
            "tags": [],
            "needs_background": "light"
          }
        }
      ]
    },
    {
      "cell_type": "markdown",
      "metadata": {
        "id": "yh4SMlfHvmb_"
      },
      "source": [
        "### 전처리\n",
        "- (1) stop_words : 한국어 불용어 사전\n",
        "- (2) stop_words2 : 200번 이상 등장한 단어\n",
        "- (3) 'NNG', 'NNP' : 일반명사, 고유명사\n",
        "\n",
        "\n",
        "- **(1)과 (2)에 속하지 않으면서, (3)에 속하는 단어만 남긴 text**"
      ]
    },
    {
      "cell_type": "code",
      "metadata": {
        "id": "uIlbnqQI7Qr-"
      },
      "source": [
        "def preprocess_text(sentence):\n",
        "    regex = re.compile('[^\\d\\w\\b ]+')\n",
        "    sentence = re.sub(regex, '', sentence)\n",
        "    temp = []\n",
        "    for word, pos in komoran.pos(sentence):\n",
        "        if word not in stop_words and word not in stop_words2 and pos in ('NNG', 'NNP'):\n",
        "            temp.append(word)\n",
        "    return ' '.join(temp)"
      ],
      "execution_count": null,
      "outputs": []
    },
    {
      "cell_type": "code",
      "metadata": {
        "id": "pkBckCKi8XBg"
      },
      "source": [
        "data = pd.DataFrame()\n",
        "data['Text'] = raw_data['raw_text'].apply(preprocess_text)\n",
        "data['Summary'] = raw_data['raw_summary'].apply(preprocess_text)"
      ],
      "execution_count": null,
      "outputs": []
    },
    {
      "cell_type": "markdown",
      "metadata": {
        "id": "is5FDPb4vmcA"
      },
      "source": [
        "#### (참고) Data cleansing 작업이 끝난 데이터를 pickle 로 저장"
      ]
    },
    {
      "cell_type": "code",
      "metadata": {
        "id": "5RVGvYg7vmcB"
      },
      "source": [
        " # save for pickle format\n",
        " #with open('./data/preprocessed_data.pickle', 'wb') as f:\n",
        "   #  pickle.dump(data, f)"
      ],
      "execution_count": null,
      "outputs": []
    },
    {
      "cell_type": "code",
      "metadata": {
        "id": "5Bmk0rM3vmcB"
      },
      "source": [
        "# with open('./data/preprocessed_data.pickle', 'rb') as f:\n",
        "#     data = pickle.load(f)"
      ],
      "execution_count": null,
      "outputs": []
    },
    {
      "cell_type": "markdown",
      "metadata": {
        "id": "vqPatSHnvmcC"
      },
      "source": [
        "#### (참고) 원문과 요약문 길이에 대한 box plot"
      ]
    },
    {
      "cell_type": "code",
      "metadata": {
        "id": "ZOl8e-DZvmcC",
        "colab": {
          "base_uri": "https://localhost:8080/",
          "height": 298
        },
        "outputId": "5415fd3e-a5f8-4b16-ec30-43f18936a8e4"
      },
      "source": [
        "plt.subplot(1,2,1)\n",
        "plt.boxplot([len(sent.split()) for sent in data['Text']])\n",
        "plt.title('raw sentence')\n",
        "plt.subplot(1,2,2)\n",
        "plt.boxplot([len(sent.split()) for sent in data['Summary']])\n",
        "plt.title('summary sentence')"
      ],
      "execution_count": null,
      "outputs": [
        {
          "output_type": "execute_result",
          "data": {
            "text/plain": [
              "Text(0.5, 1.0, 'summary sentence')"
            ]
          },
          "metadata": {
            "tags": []
          },
          "execution_count": 42
        },
        {
          "output_type": "display_data",
          "data": {
            "image/png": "[encoded data removed]",
            "text/plain": [
              "<Figure size 432x288 with 2 Axes>"
            ]
          },
          "metadata": {
            "tags": [],
            "needs_background": "light"
          }
        }
      ]
    },
    {
      "cell_type": "code",
      "metadata": {
        "id": "hIVMVpaGvmcC"
      },
      "source": [
        "sentence_max_len = 400\n",
        "summary_max_len = 50"
      ],
      "execution_count": null,
      "outputs": []
    },
    {
      "cell_type": "code",
      "metadata": {
        "id": "oCrpQYxlvmcD"
      },
      "source": [
        "def below_threshold_len(max_len, nested_list):\n",
        "    cnt = 0\n",
        "    for s in nested_list:\n",
        "        if(len(s.split()) <= max_len):\n",
        "            cnt = cnt + 1\n",
        "    print('전체 샘플 중 길이가 %s 이하인 샘플의 비율: %s'%(max_len, (cnt / len(nested_list))))"
      ],
      "execution_count": null,
      "outputs": []
    },
    {
      "cell_type": "code",
      "metadata": {
        "id": "Sm2SnzNEvmcD",
        "colab": {
          "base_uri": "https://localhost:8080/"
        },
        "outputId": "fab2a870-246d-473d-eb72-7eb3e345ba79"
      },
      "source": [
        "below_threshold_len(sentence_max_len, data['Text'])"
      ],
      "execution_count": null,
      "outputs": [
        {
          "output_type": "stream",
          "text": [
            "전체 샘플 중 길이가 400 이하인 샘플의 비율: 0.92\n"
          ],
          "name": "stdout"
        }
      ]
    },
    {
      "cell_type": "code",
      "metadata": {
        "id": "13NFU9nwvmcD",
        "colab": {
          "base_uri": "https://localhost:8080/"
        },
        "outputId": "da6a1ce5-880a-468b-dd8b-05cbf01ae67e"
      },
      "source": [
        "below_threshold_len(summary_max_len, data['Summary'])"
      ],
      "execution_count": null,
      "outputs": [
        {
          "output_type": "stream",
          "text": [
            "전체 샘플 중 길이가 50 이하인 샘플의 비율: 0.728\n"
          ],
          "name": "stdout"
        }
      ]
    },
    {
      "cell_type": "markdown",
      "metadata": {
        "id": "SUmUqR74vmcE"
      },
      "source": [
        "# Data Split"
      ]
    },
    {
      "cell_type": "code",
      "metadata": {
        "id": "kBGkL4axHfuT"
      },
      "source": [
        "from sklearn.model_selection import train_test_split"
      ],
      "execution_count": null,
      "outputs": []
    },
    {
      "cell_type": "markdown",
      "metadata": {
        "id": "DoVDJxrEvmcE"
      },
      "source": [
        "#### 학습 모델상의 Decoder에서 문장의 시작(sostoken)과 끝(eostoken)을 알리는 임의의 토큰 삽입"
      ]
    },
    {
      "cell_type": "code",
      "metadata": {
        "id": "4j2ELd9XvmcF"
      },
      "source": [
        "data['decoder_input'] = data['Summary'].apply(lambda x : 'sostoken '+ x)\n",
        "data['decoder_target'] = data['Summary'].apply(lambda x : x + ' eostoken')"
      ],
      "execution_count": null,
      "outputs": []
    },
    {
      "cell_type": "code",
      "metadata": {
        "id": "eWXJvJyqvmcF"
      },
      "source": [
        "X = data[['Text', 'decoder_input']]\n",
        "y = data['decoder_target']"
      ],
      "execution_count": null,
      "outputs": []
    },
    {
      "cell_type": "code",
      "metadata": {
        "id": "IXFP5y8WHfuU"
      },
      "source": [
        "# escape for OOM\n",
        "X_train, X_test, y_train, y_test = train_test_split(X, y, test_size=0.2)"
      ],
      "execution_count": null,
      "outputs": []
    },
    {
      "cell_type": "code",
      "metadata": {
        "id": "MlXnJ9fcHfuU"
      },
      "source": [
        "encoder_input_train = X_train['Text']\n",
        "decoder_input_train = X_train['decoder_input']\n",
        "decoder_target_train = y_train"
      ],
      "execution_count": null,
      "outputs": []
    },
    {
      "cell_type": "code",
      "metadata": {
        "id": "Fsp1HHx_HfuU"
      },
      "source": [
        "encoder_input_test = X_test['Text']\n",
        "decoder_input_test = X_test['decoder_input']\n",
        "decoder_target_test = y_test"
      ],
      "execution_count": null,
      "outputs": []
    },
    {
      "cell_type": "markdown",
      "metadata": {
        "id": "4RqgSNOJHfuV"
      },
      "source": [
        "# Encoding"
      ]
    },
    {
      "cell_type": "markdown",
      "metadata": {
        "id": "l7-jFdWhHfuV"
      },
      "source": [
        "## Input encoding"
      ]
    },
    {
      "cell_type": "code",
      "metadata": {
        "id": "Gl3pe04DHfuV"
      },
      "source": [
        "from tensorflow.keras.preprocessing.text import Tokenizer\n",
        "from tensorflow.keras.preprocessing.sequence import pad_sequences"
      ],
      "execution_count": null,
      "outputs": []
    },
    {
      "cell_type": "code",
      "metadata": {
        "id": "-CS_LbmPvmcI"
      },
      "source": [
        "src_tokenizer = Tokenizer()\n",
        "src_tokenizer.fit_on_texts(encoder_input_train)"
      ],
      "execution_count": null,
      "outputs": []
    },
    {
      "cell_type": "code",
      "metadata": {
        "id": "aC5lp5ygvmcJ",
        "colab": {
          "base_uri": "https://localhost:8080/"
        },
        "outputId": "5f1fae09-4e58-4cf3-9450-4d714c8aa667"
      },
      "source": [
        "src_rare_cnt = 0\n",
        "for key, value in src_tokenizer.word_counts.items():\n",
        "    src_rare_cnt += 1\n",
        "    if (value > 40):\n",
        "        src_rare_cnt -= 1\n",
        "        \n",
        "print(src_rare_cnt)"
      ],
      "execution_count": null,
      "outputs": [
        {
          "output_type": "stream",
          "text": [
            "1660\n"
          ],
          "name": "stdout"
        }
      ]
    },
    {
      "cell_type": "code",
      "metadata": {
        "id": "nFSgPulZvmcJ",
        "colab": {
          "base_uri": "https://localhost:8080/"
        },
        "outputId": "211938ed-e2ba-4122-dcd7-3fb560c492b1"
      },
      "source": [
        "src_vocab = src_rare_cnt - (src_rare_cnt % 100)\n",
        "src_tokenizer = Tokenizer(num_words=src_vocab)\n",
        "print('src_rare_cnt : %d' % src_vocab)"
      ],
      "execution_count": null,
      "outputs": [
        {
          "output_type": "stream",
          "text": [
            "src_rare_cnt : 1600\n"
          ],
          "name": "stdout"
        }
      ]
    },
    {
      "cell_type": "code",
      "metadata": {
        "id": "obu9kYVBvmcK"
      },
      "source": [
        "src_tokenizer.fit_on_texts(encoder_input_train)"
      ],
      "execution_count": null,
      "outputs": []
    },
    {
      "cell_type": "code",
      "metadata": {
        "id": "e8BtuvNcvmcK"
      },
      "source": [
        "encoder_input_train  = src_tokenizer.texts_to_sequences(encoder_input_train)\n",
        "encoder_input_test  = src_tokenizer.texts_to_sequences(encoder_input_test)"
      ],
      "execution_count": null,
      "outputs": []
    },
    {
      "cell_type": "markdown",
      "metadata": {
        "id": "era7UjDaHfuZ"
      },
      "source": [
        "## Target encoding"
      ]
    },
    {
      "cell_type": "code",
      "metadata": {
        "id": "vBOEV9CHHfub"
      },
      "source": [
        "tar_tokenizer = Tokenizer()\n",
        "tar_tokenizer.fit_on_texts(decoder_input_train)\n",
        "tar_tokenizer.fit_on_texts(decoder_target_train)"
      ],
      "execution_count": null,
      "outputs": []
    },
    {
      "cell_type": "code",
      "metadata": {
        "id": "7PF5rm_wvmcL",
        "colab": {
          "base_uri": "https://localhost:8080/"
        },
        "outputId": "2ed656ea-8006-4934-8173-96c2caacff03"
      },
      "source": [
        "tar_rare_cnt = 0\n",
        "for key, value in tar_tokenizer.word_counts.items():\n",
        "    tar_rare_cnt += 1\n",
        "    if (value > 40):\n",
        "        tar_rare_cnt -= 1\n",
        "        \n",
        "print(tar_rare_cnt)"
      ],
      "execution_count": null,
      "outputs": [
        {
          "output_type": "stream",
          "text": [
            "677\n"
          ],
          "name": "stdout"
        }
      ]
    },
    {
      "cell_type": "code",
      "metadata": {
        "id": "CJft_Cz2vmcL"
      },
      "source": [
        "tar_vocab = tar_rare_cnt - (tar_rare_cnt % 100)\n",
        "tar_tokenizer = Tokenizer(num_words=tar_vocab)"
      ],
      "execution_count": null,
      "outputs": []
    },
    {
      "cell_type": "code",
      "metadata": {
        "id": "66iLegOjHfub"
      },
      "source": [
        "tar_tokenizer.fit_on_texts(decoder_input_train)\n",
        "tar_tokenizer.fit_on_texts(decoder_target_train)"
      ],
      "execution_count": null,
      "outputs": []
    },
    {
      "cell_type": "code",
      "metadata": {
        "id": "EcfSkJdKvmcM"
      },
      "source": [
        "decoder_input_train = tar_tokenizer.texts_to_sequences(decoder_input_train) \n",
        "decoder_target_train = tar_tokenizer.texts_to_sequences(decoder_target_train)\n",
        "decoder_input_test = tar_tokenizer.texts_to_sequences(decoder_input_test)\n",
        "decoder_target_test = tar_tokenizer.texts_to_sequences(decoder_target_test)"
      ],
      "execution_count": null,
      "outputs": []
    },
    {
      "cell_type": "markdown",
      "metadata": {
        "id": "HyzUzUimHfuc"
      },
      "source": [
        "# Padding"
      ]
    },
    {
      "cell_type": "code",
      "metadata": {
        "id": "uSYBSpBjHfud"
      },
      "source": [
        "encoder_input_train = pad_sequences(encoder_input_train, maxlen = sentence_max_len, padding='post')\n",
        "encoder_input_test = pad_sequences(encoder_input_test, maxlen = sentence_max_len, padding='post')\n",
        "decoder_input_train = pad_sequences(decoder_input_train, maxlen = summary_max_len, padding='post')\n",
        "decoder_target_train = pad_sequences(decoder_target_train, maxlen = summary_max_len, padding='post')\n",
        "decoder_input_test = pad_sequences(decoder_input_test, maxlen = summary_max_len, padding='post')\n",
        "decoder_target_test = pad_sequences(decoder_target_test, maxlen = summary_max_len, padding='post')"
      ],
      "execution_count": null,
      "outputs": []
    },
    {
      "cell_type": "markdown",
      "metadata": {
        "id": "ujTyBhjQHfud"
      },
      "source": [
        "# Modeling"
      ]
    },
    {
      "cell_type": "code",
      "metadata": {
        "id": "oNov3Y_FHfud"
      },
      "source": [
        "import tensorflow as tf\n",
        "from tensorflow.keras.layers import Input, LSTM, Embedding, Dense, Concatenate\n",
        "from tensorflow.keras.models import Model\n",
        "from tensorflow.keras.callbacks import EarlyStopping, ModelCheckpoint"
      ],
      "execution_count": null,
      "outputs": []
    },
    {
      "cell_type": "markdown",
      "metadata": {
        "id": "DBCs6ajmvmcQ"
      },
      "source": [
        "## (선택) Single LSTM Encoder   vs   Multi LSTM Encoder"
      ]
    },
    {
      "cell_type": "markdown",
      "metadata": {
        "id": "2R_LL2f9vmcR"
      },
      "source": [
        "### Single LSTM Encoder"
      ]
    },
    {
      "cell_type": "code",
      "metadata": {
        "id": "gBNcXEw0vmcR"
      },
      "source": [
        "embedding_dim = 64\n",
        "hidden_size = 128\n",
        "\n",
        "# 인코더\n",
        "encoder_inputs = Input(shape=(sentence_max_len,))\n",
        "\n",
        "# 인코더의 임베딩 층\n",
        "enc_emb = Embedding(src_vocab, embedding_dim)(encoder_inputs)\n",
        "\n",
        "# 인코더의 LSTM 1\n",
        "encoder_lstm1 = LSTM(hidden_size, return_sequences=True, return_state=True ,dropout = 0.4, recurrent_dropout = 0.4)\n",
        "encoder_outputs, state_h, state_c = encoder_lstm1(enc_emb)"
      ],
      "execution_count": null,
      "outputs": []
    },
    {
      "cell_type": "markdown",
      "metadata": {
        "id": "W1JyDMOfvmcR"
      },
      "source": [
        "### Multi LSTM Encoder"
      ]
    },
    {
      "cell_type": "code",
      "metadata": {
        "id": "1Cz5jwZMHfue"
      },
      "source": [
        "embedding_dim = 128\n",
        "hidden_size = 256\n",
        "\n",
        "# 인코더\n",
        "with tf.device('/GPU:0'):\n",
        "    encoder_inputs = Input(shape=(sentence_max_len,))\n",
        "\n",
        "    # 인코더의 임베딩 층\n",
        "    enc_emb = Embedding(src_vocab, embedding_dim)(encoder_inputs)\n",
        "\n",
        "    # 인코더의 LSTM 1\n",
        "    encoder_lstm1 = LSTM(hidden_size, return_sequences=True, return_state=True ,dropout = 0.4, recurrent_dropout = 0.4)\n",
        "    encoder_output1, state_h1, state_c1 = encoder_lstm1(enc_emb)\n",
        "\n",
        "    # 인코더의 LSTM 2\n",
        "    encoder_lstm2 = LSTM(hidden_size, return_sequences=True, return_state=True, dropout=0.4, recurrent_dropout=0.4)\n",
        "    encoder_output2, state_h2, state_c2 = encoder_lstm2(encoder_output1)\n",
        "\n",
        "    # 인코더의 LSTM 3\n",
        "    encoder_lstm3 = LSTM(hidden_size, return_state=True, return_sequences=True, dropout=0.4, recurrent_dropout=0.4)\n",
        "    encoder_outputs, state_h, state_c= encoder_lstm3(encoder_output2)"
      ],
      "execution_count": null,
      "outputs": []
    },
    {
      "cell_type": "code",
      "metadata": {
        "id": "vcASdHsKHfue"
      },
      "source": [
        "# 디코더\n",
        "with tf.device('/GPU:0'):\n",
        "    decoder_inputs = Input(shape=(None,))\n",
        "\n",
        "    # 디코더의 임베딩 층\n",
        "    dec_emb_layer = Embedding(tar_vocab, embedding_dim)\n",
        "    dec_emb = dec_emb_layer(decoder_inputs)\n",
        "\n",
        "    # 디코더의 LSTM\n",
        "    decoder_lstm = LSTM(hidden_size, return_sequences = True, return_state = True, dropout = 0.4, recurrent_dropout=0.2)\n",
        "    decoder_outputs, _, _ = decoder_lstm(dec_emb, initial_state = [state_h, state_c])"
      ],
      "execution_count": null,
      "outputs": []
    },
    {
      "cell_type": "code",
      "metadata": {
        "id": "N3Fz2CVsHfuf"
      },
      "source": [
        "import urllib"
      ],
      "execution_count": null,
      "outputs": []
    },
    {
      "cell_type": "markdown",
      "metadata": {
        "id": "zl8klyZHvmcS"
      },
      "source": [
        "### keras로 작성된 Attention layer 참조"
      ]
    },
    {
      "cell_type": "code",
      "metadata": {
        "id": "_SVDPnpNHfuf"
      },
      "source": [
        "urllib.request.urlretrieve(\"https://raw.githubusercontent.com/thushv89/attention_keras/master/src/layers/attention.py\", filename=\"attention.py\")\n",
        "\n",
        "from attention import AttentionLayer"
      ],
      "execution_count": null,
      "outputs": []
    },
    {
      "cell_type": "code",
      "metadata": {
        "id": "IwNtQ_pYHfuf",
        "colab": {
          "base_uri": "https://localhost:8080/"
        },
        "outputId": "eb47ddc9-f38e-4b6d-bf6c-b16497ff62b8"
      },
      "source": [
        "# 어텐션 층(어텐션 함수)\n",
        "with tf.device('/GPU:0'):\n",
        "    attn_layer = AttentionLayer(name='attention_layer')\n",
        "    attn_out, attn_states = attn_layer([encoder_outputs, decoder_outputs])\n",
        "\n",
        "    # 어텐션의 결과와 디코더의 hidden state들을 연결\n",
        "    decoder_concat_input = Concatenate(axis = -1, name='concat_layer')([decoder_outputs, attn_out])\n",
        "\n",
        "    # 디코더의 출력층\n",
        "    decoder_softmax_layer = Dense(tar_vocab, activation='softmax')\n",
        "    decoder_softmax_outputs = decoder_softmax_layer(decoder_concat_input)\n",
        "\n",
        "# 모델 정의\n",
        "model = Model([encoder_inputs, decoder_inputs], decoder_softmax_outputs)\n",
        "model.summary()"
      ],
      "execution_count": null,
      "outputs": [
        {
          "output_type": "stream",
          "text": [
            "Model: \"model\"\n",
            "__________________________________________________________________________________________________\n",
            "Layer (type)                    Output Shape         Param #     Connected to                     \n",
            "==================================================================================================\n",
            "input_1 (InputLayer)            [(None, 400)]        0                                            \n",
            "__________________________________________________________________________________________________\n",
            "input_2 (InputLayer)            [(None, None)]       0                                            \n",
            "__________________________________________________________________________________________________\n",
            "embedding (Embedding)           (None, 400, 64)      102400      input_1[0][0]                    \n",
            "__________________________________________________________________________________________________\n",
            "embedding_1 (Embedding)         (None, None, 64)     38400       input_2[0][0]                    \n",
            "__________________________________________________________________________________________________\n",
            "lstm (LSTM)                     [(None, 400, 128), ( 98816       embedding[0][0]                  \n",
            "__________________________________________________________________________________________________\n",
            "lstm_1 (LSTM)                   [(None, None, 128),  98816       embedding_1[0][0]                \n",
            "                                                                 lstm[0][1]                       \n",
            "                                                                 lstm[0][2]                       \n",
            "__________________________________________________________________________________________________\n",
            "attention_layer (AttentionLayer ((None, None, 128),  32896       lstm[0][0]                       \n",
            "                                                                 lstm_1[0][0]                     \n",
            "__________________________________________________________________________________________________\n",
            "concat_layer (Concatenate)      (None, None, 256)    0           lstm_1[0][0]                     \n",
            "                                                                 attention_layer[0][0]            \n",
            "__________________________________________________________________________________________________\n",
            "dense (Dense)                   (None, None, 600)    154200      concat_layer[0][0]               \n",
            "==================================================================================================\n",
            "Total params: 525,528\n",
            "Trainable params: 525,528\n",
            "Non-trainable params: 0\n",
            "__________________________________________________________________________________________________\n"
          ],
          "name": "stdout"
        }
      ]
    },
    {
      "cell_type": "code",
      "metadata": {
        "id": "h3vOQMW9Hfug"
      },
      "source": [
        "model.compile(optimizer='rmsprop', loss='sparse_categorical_crossentropy')"
      ],
      "execution_count": null,
      "outputs": []
    },
    {
      "cell_type": "code",
      "metadata": {
        "id": "I0qoELPAHfug",
        "scrolled": false,
        "colab": {
          "base_uri": "https://localhost:8080/"
        },
        "outputId": "3fe8b5b2-8d1a-4ba8-984c-2bc74b99f18e"
      },
      "source": [
        "es = EarlyStopping(monitor='val_loss', mode='min', verbose=1, patience = 5)\n",
        "history = model.fit(x = [encoder_input_train, decoder_input_train], y = decoder_target_train, \\\n",
        "          validation_data = ([encoder_input_test, decoder_input_test], decoder_target_test),\n",
        "          batch_size = 16, callbacks=[es], epochs = 100)"
      ],
      "execution_count": null,
      "outputs": [
        {
          "output_type": "stream",
          "text": [
            "Epoch 1/100\n",
            "7/7 [==============================] - 32s 3s/step - loss: 6.0979 - val_loss: 4.3610\n",
            "Epoch 2/100\n",
            "7/7 [==============================] - 13s 2s/step - loss: 4.9187 - val_loss: 4.2198\n",
            "Epoch 3/100\n",
            "7/7 [==============================] - 14s 2s/step - loss: 4.6977 - val_loss: 4.1159\n",
            "Epoch 4/100\n",
            "7/7 [==============================] - 14s 2s/step - loss: 4.5568 - val_loss: 4.0401\n",
            "Epoch 5/100\n",
            "7/7 [==============================] - 14s 2s/step - loss: 4.5741 - val_loss: 4.0131\n",
            "Epoch 6/100\n",
            "7/7 [==============================] - 14s 2s/step - loss: 4.4457 - val_loss: 3.9561\n",
            "Epoch 7/100\n",
            "7/7 [==============================] - 13s 2s/step - loss: 4.5011 - val_loss: 3.9716\n",
            "Epoch 8/100\n",
            "7/7 [==============================] - 13s 2s/step - loss: 4.4107 - val_loss: 3.9412\n",
            "Epoch 9/100\n",
            "7/7 [==============================] - 14s 2s/step - loss: 4.4043 - val_loss: 3.9149\n",
            "Epoch 10/100\n",
            "7/7 [==============================] - 13s 2s/step - loss: 4.2715 - val_loss: 3.8882\n",
            "Epoch 11/100\n",
            "7/7 [==============================] - 13s 2s/step - loss: 4.4747 - val_loss: 3.8608\n",
            "Epoch 12/100\n",
            "7/7 [==============================] - 13s 2s/step - loss: 4.3453 - val_loss: 3.8747\n",
            "Epoch 13/100\n",
            "7/7 [==============================] - 13s 2s/step - loss: 4.3500 - val_loss: 3.9086\n",
            "Epoch 14/100\n",
            "7/7 [==============================] - 13s 2s/step - loss: 4.3561 - val_loss: 3.8230\n",
            "Epoch 15/100\n",
            "7/7 [==============================] - 13s 2s/step - loss: 4.2076 - val_loss: 3.8575\n",
            "Epoch 16/100\n",
            "7/7 [==============================] - 13s 2s/step - loss: 4.2851 - val_loss: 3.8652\n",
            "Epoch 17/100\n",
            "7/7 [==============================] - 14s 2s/step - loss: 4.2577 - val_loss: 3.8281\n",
            "Epoch 18/100\n",
            "7/7 [==============================] - 14s 2s/step - loss: 4.1847 - val_loss: 3.8569\n",
            "Epoch 19/100\n",
            "7/7 [==============================] - 13s 2s/step - loss: 4.2632 - val_loss: 3.8256\n",
            "Epoch 00019: early stopping\n"
          ],
          "name": "stdout"
        }
      ]
    },
    {
      "cell_type": "code",
      "metadata": {
        "id": "EPkEys9yQ4wS"
      },
      "source": [
        "from matplotlib import pyplot as plt"
      ],
      "execution_count": null,
      "outputs": []
    },
    {
      "cell_type": "code",
      "metadata": {
        "id": "8a-aj5iiHfuh",
        "colab": {
          "base_uri": "https://localhost:8080/",
          "height": 265
        },
        "outputId": "d71a27d4-d711-432e-cca6-2ef97468386e"
      },
      "source": [
        "plt.plot(history.history['loss'], label='train')\n",
        "plt.plot(history.history['val_loss'], label='valid')\n",
        "plt.legend()\n",
        "plt.show()"
      ],
      "execution_count": null,
      "outputs": [
        {
          "output_type": "display_data",
          "data": {
            "image/png": "[encoded data removed]",
            "text/plain": [
              "<Figure size 432x288 with 1 Axes>"
            ]
          },
          "metadata": {
            "tags": [],
            "needs_background": "light"
          }
        }
      ]
    },
    {
      "cell_type": "code",
      "metadata": {
        "id": "fw6-pqwtLrw4"
      },
      "source": [
        "src_index_to_word = src_tokenizer.index_word # 원문 단어 집합에서 정수 -> 단어를 얻음\n",
        "tar_word_to_index = tar_tokenizer.word_index # 요약 단어 집합에서 단어 -> 정수를 얻음\n",
        "tar_index_to_word = tar_tokenizer.index_word # 요약 단어 집합에서 정수 -> 단어를 얻음"
      ],
      "execution_count": null,
      "outputs": []
    },
    {
      "cell_type": "code",
      "metadata": {
        "id": "Cdj0uL3oLvJ7"
      },
      "source": [
        "encoder_model = Model(inputs=encoder_inputs, outputs=[encoder_outputs, state_h, state_c])"
      ],
      "execution_count": null,
      "outputs": []
    },
    {
      "cell_type": "code",
      "metadata": {
        "id": "4YKX8l6cLwD3"
      },
      "source": [
        "# 이전 시점의 상태들을 저장하는 텐서\n",
        "decoder_state_input_h = Input(shape=(hidden_size,))\n",
        "decoder_state_input_c = Input(shape=(hidden_size,))\n",
        "\n",
        "dec_emb2 = dec_emb_layer(decoder_inputs)\n",
        "# 문장의 다음 단어를 예측하기 위해서 초기 상태(initial_state)를 이전 시점의 상태로 사용. 이는 뒤의 함수 decode_sequence()에 구현\n",
        "# 훈련 과정에서와 달리 LSTM의 리턴하는 은닉 상태와 셀 상태인 state_h와 state_c를 버리지 않음.\n",
        "decoder_outputs2, state_h2, state_c2 = decoder_lstm(dec_emb2, initial_state=[decoder_state_input_h, decoder_state_input_c])"
      ],
      "execution_count": null,
      "outputs": []
    },
    {
      "cell_type": "code",
      "metadata": {
        "id": "JjE2myXGLwiI"
      },
      "source": [
        "# 어텐션 함수\n",
        "decoder_hidden_state_input = Input(shape=(sentence_max_len, hidden_size))\n",
        "attn_out_inf, attn_states_inf = attn_layer([decoder_hidden_state_input, decoder_outputs2])\n",
        "decoder_inf_concat = Concatenate(axis=-1, name='concat')([decoder_outputs2, attn_out_inf])\n",
        "\n",
        "# 디코더의 출력층\n",
        "decoder_outputs2 = decoder_softmax_layer(decoder_inf_concat) \n",
        "\n",
        "# 최종 디코더 모델\n",
        "decoder_model = Model(\n",
        "    [decoder_inputs] + [decoder_hidden_state_input,decoder_state_input_h, decoder_state_input_c],\n",
        "    [decoder_outputs2] + [state_h2, state_c2])"
      ],
      "execution_count": null,
      "outputs": []
    },
    {
      "cell_type": "code",
      "metadata": {
        "id": "LbFHw4MmLw5T"
      },
      "source": [
        "def decode_sequence(input_seq):\n",
        "    # 입력으로부터 인코더의 상태를 얻음\n",
        "    e_out, e_h, e_c = encoder_model.predict(input_seq)\n",
        "\n",
        "     # <SOS>에 해당하는 토큰 생성\n",
        "    target_seq = np.zeros((1,1))\n",
        "    target_seq[0, 0] = tar_word_to_index['sostoken']\n",
        "\n",
        "    stop_condition = False\n",
        "    decoded_sentence = ''\n",
        "    while not stop_condition: # stop_condition이 True가 될 때까지 루프 반복\n",
        "\n",
        "        output_tokens, h, c = decoder_model.predict([target_seq] + [e_out, e_h, e_c])\n",
        "        # print(output_tokens)\n",
        "        sampled_token_index = np.argmax(output_tokens[0, -1, :])\n",
        "        # print(sampled_token_index)\n",
        "        sampled_token = tar_index_to_word[sampled_token_index]\n",
        "\n",
        "        if(sampled_token!='eostoken'):\n",
        "            decoded_sentence += ' '+sampled_token\n",
        "\n",
        "        #  <eos>에 도달하거나 최대 길이를 넘으면 중단.\n",
        "        if (sampled_token == 'eostoken'  or len(decoded_sentence.split()) >= (summary_max_len-1)):\n",
        "            stop_condition = True\n",
        "\n",
        "        # 길이가 1인 타겟 시퀀스를 업데이트\n",
        "        target_seq = np.zeros((1,1))\n",
        "        target_seq[0, 0] = sampled_token_index\n",
        "\n",
        "        # 상태를 업데이트 합니다.\n",
        "        e_h, e_c = h, c\n",
        "\n",
        "    return decoded_sentence"
      ],
      "execution_count": null,
      "outputs": []
    },
    {
      "cell_type": "code",
      "metadata": {
        "id": "-4pJLI9ML2Kn"
      },
      "source": [
        "# 원문의 정수 시퀀스를 텍스트 시퀀스로 변환\n",
        "def seq2text(input_seq):\n",
        "    temp=''\n",
        "    for i in input_seq:\n",
        "        if(i!=0):\n",
        "            temp = temp + src_index_to_word[i]+' '\n",
        "    return temp\n",
        "\n",
        "# 요약문의 정수 시퀀스를 텍스트 시퀀스로 변환\n",
        "def seq2summary(input_seq):\n",
        "    temp=''\n",
        "    for i in input_seq:\n",
        "        if((i!=0 and i!=tar_word_to_index['sostoken']) and i!=tar_word_to_index['eostoken']):\n",
        "            temp = temp + tar_index_to_word[i] + ' '\n",
        "    return temp"
      ],
      "execution_count": null,
      "outputs": []
    },
    {
      "cell_type": "code",
      "metadata": {
        "id": "2y_ciaVqL2eB",
        "scrolled": false,
        "colab": {
          "base_uri": "https://localhost:8080/",
          "height": 1000
        },
        "outputId": "60265a29-b1af-4ffa-f852-31b706fca01f"
      },
      "source": [
        "for i in range(0, 20):\n",
        "    print(\"원문 : \",seq2text(encoder_input_test[i]) + '\\n')\n",
        "    print(\"실제 요약문 :\",seq2summary(decoder_input_test[i])+ '\\n')\n",
        "    print(\"예측 요약문 :\",decode_sequence(encoder_input_test[i].reshape(1, sentence_max_len))+ '\\n')\n",
        "    print(\"\\n\")"
      ],
      "execution_count": null,
      "outputs": [
        {
          "output_type": "stream",
          "text": [
            "원문 :  주소 주소 주소 유출 우려 사회 미풍양속 운영자 오인하 우려 주소 주소 도용 인지 안내 주소 전체 항의 갈음 금지 미풍양속 계속 안정 최선 노력 안전 신용정보 포함 보안 취급 방침 공시 준수 불만 피해 구제 요청 인력 구비 제기 의견 불만 인정 제기 의견 불만 게시판 활용 과정 결과 전달 안내 주의 준수 방해 상당 이유 기술상 일부 일자 전 초기 화면 무료 일부 정책 수정 보상 인정 거래 문 답변 제외 수신 거절 항의 전화 모사 기기 거래 문 회신 제외 화면 신한 수신 거절 저작자 귀속 검색 결과 프로모션 노출 노출 범위 일부 수정 복제 편집 저작권법 준수 센터 기능 공개 조치 이외 전화 팩스 통신망 저작권법 포함 권리자 요청 조치 전 권리자 요청 침해 인정 정책 임시 조치 귀속 지적 재산권 귀속 제휴 저작물 제외 조건 계정 주소 콘텐츠 포인트 부여 양도 판매 담보 처분 포인트 효율 후 포인트 일부 조정 포인트 주기 소멸 해제 초기 화면 센터 정보 관리 메뉴 취급 방침 보유 제외 데이터 소멸 작성 프로젝트 계정 일체 제작 공유 공용 게시판 후 탈퇴 정상 방해 경고 일시 정지 영구 정지 단계 전 결제 도용 저작권법 컴퓨터 프로그램 불법 프로그램 방해 통신망 불법 통신 해킹 악성 프로그램 배포 접속 초과 영구 정지 영구 정지 획득 포인트 혜택 소멸 보상 계속 로그인 하지 효율 천재지변 불가항력 면제 귀책사유 장애 사실 신뢰 준거 재판관 제기 소송 대한민국 준거 분쟁 소송 제소 당시 주소 주소 소 관할 지방법원 전속 관할 제소 당시 주소 소가 관할 법원 민사소송법 \n",
            "\n",
            "실제 요약문 : 주소 주소 유출 우려 사회 미풍양속 운영자 오인하 우려 주소 안전 포함 보안 취급 방침 공시 준수 \n",
            "\n",
            "예측 요약문 :  활동 활동 활동 영업 활동 활동 활동 활동 활동 활동 활동 활동 활동 활동 활동 활동 활동 활동 활동 활동 활동 활동 활동 활동 활동 활동 활동 활동 활동 활동 활동 활동 활동 활동 활동 활동 활동 활동 활동 활동 활동 활동 활동 활동 활동 활동 활동 활동 활동\n",
            "\n",
            "\n",
            "\n",
            "원문 :  개정 효력 조건 적용 위배 범위 개정 개정 후 이내 거부 의사 간주 준칙 명시 대한민국 일반 관례 지정 소정 양식 신청서 작성 온라인 지정 화면 요구 신상 기록 기재 사정 해소 유보 일부 기술상 장애 인정 성립 이용 약관 단추 간주 이용 약관 성립 디 id 원칙 불가 디 id 탈퇴 열람 수정 기재 수정 수정 문제 온라인 탈퇴 보안 정책 원활 이유 디 id 요구 하나에 사전통지 인해 이익 유효 무료 유효 탈퇴 무료 재동 과정 유효 연장 무료 커뮤니티 게시판 공연 서신 휴대폰 문자 개시 일부 지정 일자 개시 기술상 장애 개시 메일 문자 일시 설비 보수 공사 전기통신사업법 통신 사업자 전기 통신 저장 정상 일시 전 후 인지 사정 위 생략 제출 서신 휴대폰 문자 정기 홍보물 개별 갈음 내용물 판단 소유권 소프트웨어 이미지 마크 로 디자인 명칭 상표 지적 재산권 소유권 명시 승인 제외 항의 재산 일부 수정 판매 배포 제작 양도 라이선스 담보 설정 상업 자로 허락 정책 이행 최소한 이행 제외 사상 기관 요구 통계 작성 특정 식별 형태 요청 지정 판매 제휴사 할인 혜택 최소한 공개 조회 관의 사정 개시일 계속 안정 제기 의견 불만 신속 곤란 일정 통보 노력 시 사실 일치 완전 갱신 디 id 부여 디 id 소홀 부정 결과 디 id 부정 사실 통보 통보 복사 복제 번역 출판 방송 영리 영리 결과 영리 손해배상 안내 주의 준수 권한 상 지위 양도 증여 담보 매매 금지 주소 주소 매매 주소 주소 차단 조치 수신 항의 민 형사 소송 제기 물 \n",
            "\n",
            "실제 요약문 : 기재 수정 수정 문제 정상 일시 전 후 인지 사정 위 사정 디 id 부여 디 id 소홀 부정 결과 디 id 부정 사실 통보 통보 영리 영리 결과 영리 손해배상 주소 주소 \n",
            "\n",
            "예측 요약문 :  활동 활동 활동 영업 활동 활동 활동 활동 활동 활동 활동 활동 활동 활동 활동 활동 활동 활동 활동 활동 활동 활동 활동 활동 활동 활동 활동 활동 활동 활동 활동 활동 활동 활동 활동 활동 활동 활동 활동 활동 활동 활동 활동 활동 활동 활동 활동 활동 활동\n",
            "\n",
            "\n",
            "\n",
            "원문 :  효력 당 조건 당 적용 준칙 당 이용규 정 적용 성립 신청자 온라인 당 소정 양식 요구 기록 완료 성립 당 취소 사람 명의 신청서 허위 기재 당 해소 성립 유보 제반 용량 부족 기술상 장애 당 아래 아래 당 자체 개발 기관 협의 일체 당 정보 처리 방침 적용 당 당 당 당 당 신상 누설 배포 전기통신기본법 법률 국가 기관 요구 범죄 사상 정보통신 윤리 위원회 요청 요청 당 공개 당 간의 통합 수정 수신 불필요 생각 부분 조정 사용자 정보 보안 신청자 당 완료 순간 입력 유지 결과 부정 사실 발견 당 신고 신고 당 기술상 지장 연중무휴 원칙 항의 정기 점검 당 날 예외 저장 당 보관 메시지 통신 메시지 국가 비상사태 정전 당 범위 설비 장애 불가항력 보관 통신 데이터 손실 당 부담 당 기대 손익 사실 신뢰 당 가입자 가입자 고의 과실 부담 홍보물 당 당 판단 활용 홍보물 당 제출 당 편집 이동 보유 위배 상용 불법 음란 저속 판단 비방 중상 모략 명예 손상 공공질서 미풍양속 사용자 행동 규범 허위 판명 의심 합리 당 일부 인해 이익 부담 당 입수 메일 수단 입수 형태 부담 당 부담 당 당 금지 미풍양속 계속 안정 노력 당 신상 누설 배포 전기 통신 국가 기관 요구 당 안전 당 신용정보 포함 보안 당 귀책사유 장애 요구 기입 유지 갱신 안 당 영리 당 당 복사 복제 번역 출판 방송 당 안 부정 범죄 범죄 풍속 사회 질서 해 명예 훼손 모욕 지적 재산권 침해 해킹 컴퓨터 바이러스 유포 의사 지속 안전 지장 우려 일체 당 전기 통신법 조와 전기통신사업법 시행령 불온 통신 통신 사업 위배 기 당 소유권 당 소프트웨어 이미지 마크 로 디자인 명칭 상표 지적 재산권 정부 소유권 당 명시 승인 제외 항의 소정 재산 일부 수정 판매 배포 제작 양도 라이 센스 담보 설정 상업 자로 허락 양도 금지 이용권 상 지위 양도 증여 담보 \n",
            "\n",
            "실제 요약문 : 부정 사실 발견 당 신고 신고 허위 판명 의심 합리 당 일부 인해 이익 부담 당 신상 누설 배포 당 영리 당 당 복사 복제 번역 출판 방송 \n",
            "\n",
            "예측 요약문 :  활동 활동 활동 영업 활동 활동 활동 활동 활동 활동 활동 활동 활동 활동 활동 활동 활동 활동 활동 활동 활동 활동 활동 활동 활동 활동 활동 활동 활동 활동 활동 활동 활동 활동 활동 활동 활동 활동 활동 활동 활동 활동 활동 활동 활동 활동 활동 활동 활동\n",
            "\n",
            "\n",
            "\n",
            "원문 :  준수 행사 이행 신의 성실 허위 기재 안내 주의 확인 준수 하나에 구체 유형 정책 준수 수정 정책 설정 규칙 영업 방침 정해진 초기 화면 안내 하나에 컴퓨터 정보통신 설비 보수 점검 교체 정기 점검 수정 채팅 편지 통신 관할 간의 분쟁 조정 민원 질서 유지 위임 권한 부여 열람 활용 열람 열람 열람 범위 고지 비용 지급 이하 무료 책정 지불 이하 선택 충전 인 충전 날 날 인 제외 무료 인 무료 지급 종류 인 보유 일부 인 순서 충전 안내 페이지 고지 결제 업체 이동 통신사 신용카드 정책 충전 보유 한도 설정 충전 사후 취소 결제 납부 납부 확인 포인트 효율 포인트 지급 정책 등급 설정 포인트 설정 만료 탈퇴 계정 제재 포인트 소멸 등급 조정 포인트 지급 소멸 등급 조정 고지 귀속 제작 콘텐츠 지적 재산권 소유 조건 아래 권한 부여 업체 지적 재산권 귀속 업체 아래 컴퓨터 프로그램 설치 컴퓨터 프로그램 설치 요청 프로그램 설치 전 용량 기능 제거 프로그램 영향 프로그램 성격 고지 프로그램 설치 프로그램 자동 설치 브라우저 설정 프로그램 설치 간주 의사 확인 프로그램 설치 청약 철회 해제 청약 철회 체결 구매 가능 이내 청약 철회 하나에 의사 청약 철회 재화 멸시 훼손 해제 이하 탈퇴 탈퇴 확인 확인 조치 탈퇴 센터 탈퇴 탈퇴 해제 통보 후 현행법 고의 과실 통보 구분 구체 조에 개별 정책 캐릭터 일부 권한 일정 캐릭터 채팅 일정 권한 캐릭터 일정 캐릭터 잠정 조치 문제 조사 완료 계정 정지 계정 해킹 도용 신고 접수 이의신청 불복 통보 날 이내 불복 이유 기재 이의신청 제출 손해배상 환불 손해배상 고의 중과실 배상 결함 피해 보상 기준 범위 콘텐츠 지침 구매 피해 보상 면책 전시 사변 천재지변 비상사태 현재 기술 해결 기술 결함 불가항력 면제 귀책사유 장애 면제 통신 사업자 전기 통신 정상 고의 과실 면제 고충 분쟁 해결 편의 고려 의견 불만 제시 초기 화면 안내 의견 불만 전담 조직 제기 의견 불만 객관 인정 합리 신속 장기간 소요 장기간 소요 일정 전화 서면 통보 분쟁 분쟁 조정 기관 조정 조치 증명 조정 기관 조정 오금 오금 대금 결제 오금 전액 환불 환불 고지 지정 주소 전체 초기 화면 팝 업화 제시 항의 갈음 재판권 준거 대한민국 법률 해석 분쟁 소송 제기 법원 법원 \n",
            "\n",
            "실제 요약문 : 정책 통신 비용 이하 무료 이하 컴퓨터 설치 요청 이하 탈퇴 탈퇴 확인 확인 조치 통보 후 고의 과실 통보 구체 조에 개별 정책 \n",
            "\n",
            "예측 요약문 :  id 활동 활동 영업 활동 활동 활동 활동 활동 활동 활동 활동 활동 활동 활동 활동 활동 활동 활동 활동 활동 활동 활동 활동 활동 활동 활동 활동 활동 활동 활동 활동 활동 활동 활동 활동 활동 활동 활동 활동 활동 활동 활동 활동 활동 활동 활동 활동 활동\n",
            "\n",
            "\n",
            "\n",
            "원문 :  제기 의견 불만 인정 곤란 일정 서면 전화 통보 제정 개인정보보호정책 법률 적법 항의 고지 명시 범위 초과 개별 계속 안정 설비 장애 실 지체 수리 복구 천재지변 비상사태 일시 체결 등에 편의 사전동의 전체 일부 통계 작성 컴퓨터 쿠키 쿠키 수신 거부 쿠키 수신 경고 컴퓨터 브라우저 설정 쿠키 설정 부정 복사 가공 번역 저작 복제 공연 방송 전시 배포 출판 명예 손상 이익 침해 공공질서 미풍양속 문장 도형 음성 유포 범죄 결부 객관 인정 설비 동작 파괴 혼란 유발 컴퓨터 바이러스 감염 유포 안정 방해 수신자 의사 정보통신윤리위원회 소비자보호 단체 기관 시정 요구 선거관리위원회 경고 시정 위배 안내 주의 준수 준수 명시 영업 활동 결과 영업 활동 손해배상 지위 양도 증여 담보 일부 기능 방문 전자서명 디 id 열람 정정 요구 확인 지체 조치 대리인 방문 열람 정정 요구 제시 요구 의견 불만 마련 기술상 지장 연중무휴 원칙 정기 점검 증설 교체 날 일시 예정 작업 일시 웹 사전통지 이동 거부 모욕 명예 손상 공공질서 미풍양속 유포 링크 시키 불법 복제 해킹 조장 영리 취득 임 가공 판매 상업 내용물 판단 사전통지 이동 거부 도중 인정 전화 통신 광고주 거래 투자 기반 일부 수익 노출 광고주 판촉 활동 참여 교신 거래 손실 웹 탈퇴 메뉴 미풍양속 저해 비속 별명 모욕 방해 정상 방해 손해배상 범위 청구 천재지변 불가항력 고의 과실 손해배상 상거래 호스팅 일반 호스팅 불가항력 위 항의 불법행위 이외 손해배상 청구 소송 이의 제기 면책 노력 면책 배상 면책 천재지변 전쟁 불가항력 면제 통신 사업자 전기 통신 정상 면제 설비 보수 교체 정기 점검 공사 면제 귀책사유 장애 컴퓨터 오류 신상 주소 부실 기재 \n",
            "\n",
            "실제 요약문 : 제기 의견 불만 인정 곤란 일정 서면 전화 통보 항의 고지 명시 범위 초과 개별 명시 영업 활동 결과 판단 사전통지 이동 거부 인정 전화 통신 \n",
            "\n",
            "예측 요약문 :  활동 활동 활동 영업 활동 활동 활동 활동 활동 활동 활동 활동 활동 활동 활동 활동 활동 활동 활동 활동 활동 활동 활동 활동 활동 활동 활동 활동 활동 활동 활동 활동 활동 활동 활동 활동 활동 활동 활동 활동 활동 활동 활동 활동 활동 활동 활동 활동 활동\n",
            "\n",
            "\n",
            "\n",
            "원문 :  효력 웹사이트 효력 특정 적용 이하 개별 세부 특정 존재 효력 준용 명시 전기통신기본법 전기통신사업법 통신망 촉진 법률 성립 성립 인터넷 소정 신청서 요구 기록 온라인 양식 기재 실제 데이터 간주 실명 실제 입력 사용자 양식 기재 예외 유보 항의 기재 인터넷 수정 수정 요청 부여 원칙 기업 전환 기업 id 생성 id 로그인 후 기업 활동 준수 세부 특정 관상 준수 부정 복제 출판 영업 활동 영업 활동 결과 이용권 지위 양도 증여 담보 효율 공간 메시지 크기 보관 웹사이트 편집 이동 보유 비방 중상모략 명예 손상 공공질서 미풍양속 이미지 동영상 첨부 파일 포함 인해 침해 민 형사 웹사이트 침해 웹사이트 검색 노출 판촉 홍보 무상 복제 전시 배포 저작물 편집 저작물 작성 요청 법률 보존 제외 위탁 작성 저작물 지적 재산권 귀속 웹사이트 사생활 침해 명예훼손 침해 지적 재산권 침해 침해 이하 침해 침해 침해 사실 소명 침해 요청 지체 침해 범위 임시 접근 차단 조치 이하 임시 조치 조치 침해 판단 침해 조치 청자 침해 임시 조치 침해 증명 분쟁 당사자 임시 조치 침해 제시 복구 임시 조치 요구 요구 인터넷 확인 후 조치 조항 추후 id 도용 기업 근거 속 기업 기업 분류 기업 분류 소속 기업 웹사이트 사업 포함 뉴스레터 마케팅 수신 대상 제외 면 id 전환 방지 원활 계속 로그인 포함 면 id 분류 정지 면 id 분류 전 면 id 분류 사실 전환 시작 면 id 분류 뉴스레터 포함 마케팅 수신 대상 잠정 제외 면 웹사이트 로그인 정상 면책 조항 사실 신뢰 웹사이트 기대 이익 취사선택 웹사이트 인해 피해 \n",
            "\n",
            "실제 요약문 : 영업 활동 영업 활동 결과 이용권 지위 양도 증여 담보 면 id 전환 방지 원활 계속 로그인 포함 면 id 분류 정지 면 id 분류 전 면 id 분류 사실 전환 시작 면 id 분류 포함 마케팅 수신 대상 제외 면 웹사이트 로그인 정상 \n",
            "\n",
            "예측 요약문 :  활동 활동 활동 영업 활동 활동 활동 활동 활동 활동 활동 활동 활동 활동 활동 활동 활동 활동 활동 활동 활동 활동 활동 활동 활동 활동 활동 활동 활동 활동 활동 활동 활동 활동 활동 활동 활동 활동 활동 활동 활동 활동 활동 활동 활동 활동 활동 활동 활동\n",
            "\n",
            "\n",
            "\n",
            "원문 :  커뮤니티 활동 이벤트 이행 취득 누설 배포 상업 서명 전자서명 전화 표시 확인 전화 입증 상대방 합의 통화 이행 금정산 통계 작성 학술 연구 시장 조사 특정 형태 가공 금융 실명 거래 보장 법률 이용 및 관한 법률 전기통신기본법 전기통신사업법 소비자보호법 법률 항의 개별 서면 전화 고지 종전 제공자 종전 고지 명시 포함 고지 명시 범위 범위 의사표시 당사자 계속 안정 지속 노력 설비 장애 수리 복구 최선 다합 니다 천재지변 비상사태 밖 일시 프라이버시 명시 체결 제반 편의 노력 안내 주의 준수 안 주민등록번호 도용 이외 복제 출판 방송 이용한 영업 활동 영업 활동 결과 영업 활동 결과 영업 활동 배상 명시 이용권 지위 양도 증여 담보 열람 수정 기재 온라인 수정 미 문제 범위 발급 영업 정책 인정 기본 무료 명시 지불 내용물 판단 사전동의 비방 중상모략 명예 손상 공공질서 미풍양속 이외 영리 가공 판매 상업 온라인 사전통지 도용 고의 방해 신청서 기재 이름 실명 동일 사용자 이중 공공질서 미풍양속 저해 고의 유포 국익 사회 공익 저해 계획 실행 명예 손상 이익 의사 정보통신 설비 파괴 장애 유발 컴퓨터 바이러스 프로그램 유포 지적 재산권 침해 정보통신윤리위원회 외부 기관 시정 요구 선거관리위원회 불법 선거 운동 유권 해석 id 부정 복제 유통 상업 게시판 음란물 게시판 음란 미풍양속 링크 포함 조건 손해배상 손해배상 무료 고의 과실 면책 조항 천재지변 불가항력 면제 귀책사유 장애 포함 소프트웨어 제품 오류 문서 상담 기대 수익 상실 법률 재정 결정 사실 신뢰 법정 대리인 고지 항의 법정 대리인 법정 대리인 고지 아동 고지 명시 범위 법정 대리인 법정 대리인 조치 법정 대리인 항의 철회 아동 열람 오류 정정 요구 항의 항의 법정 대리인 철회 열람 오류 정정 요구 준용 법정 대리인 \n",
            "\n",
            "실제 요약문 : 이용한 영업 활동 영업 활동 결과 영업 활동 결과 명시 이용권 지위 양도 증여 담보 열람 수정 기재 온라인 수정 미 문제 포함 소프트웨어 제품 오류 \n",
            "\n",
            "예측 요약문 :  활동 활동 활동 영업 활동 활동 활동 활동 활동 활동 활동 활동 활동 활동 활동 활동 활동 활동 활동 활동 활동 활동 활동 활동 활동 활동 활동 활동 활동 활동 활동 활동 활동 활동 활동 활동 활동 활동 활동 활동 활동 활동 활동 활동 활동 활동 활동 활동 활동\n",
            "\n",
            "\n",
            "\n",
            "원문 :  양식 기입 단추 아래 행사 온라인 온라인 지원 컴퓨터 정보통신 설비 보수 점검 교체 고장 통신 두절 일시 교체 판단 탈퇴 자격 상실 말 탈퇴 요청 위 요청 말소 자격 정지 상실 허위 특정 메일 주소 불특정 게시판 개별 갈음 포함 노력 취급 방침 금지 공 서양 속 지속 안정 노력 안전 인터넷 보안 구축 영리 발송 취급 방침 제외 안 도난 인지 통보 안내 안 허위 저장 공개 불특정 대상 스팸 메일 영리 활동 자격 정지 상실 귀책사유 배상 공개 공개 공개 자격 정지 상실 비방 중상모략 명예 손상 공 서양 속 문장 도형 유포 범죄 판단 침해 위배 판단 정책 게시판 게시판 의견 게시판 문제 전적 게시판 내용물 대상 후 불법 통보 프로그램 침해 민형사 부담 이유 손해배상 청구 제기 인해 부담 내용물 게시판 원칙 위배 판단 사후 통보 경중 제재 카 테 고리 게시판 추가 생성 임의 게시판 저장 저장 편집 이동 적법 기준 제재 조치 통신 윤리 위원회 규칙 기본 원칙 현행법 공공질서 미풍양속 저해 국가 국가 훼손 국가 수행 단체 침해 명예 훼손 사회 혼란 야기 허위 사실 귀속 자산 상표 기술 텍스트 그래픽 비디오 다운로드 링크 소스 코드 이하 웹사이트 형태 편의 상업 허락 용도 개정 규제 법률 거래 기본법 전자서명 통신망 촉진 법률 위배 범위 개정 \n",
            "\n",
            "실제 요약문 : 컴퓨터 정보통신 설비 보수 점검 교체 고장 통신 두절 일시 교체 판단 불특정 게시판 개별 갈음 안전 인터넷 보안 취급 방침 제외 도난 인지 통보 안내 공개 공개 자격 정지 상실 \n",
            "\n",
            "예측 요약문 :  활동 활동 활동 영업 활동 활동 활동 활동 활동 활동 활동 활동 활동 활동 활동 활동 활동 활동 활동 활동 활동 활동 활동 활동 활동 활동 활동 활동 활동 활동 활동 활동 활동 활동 활동 활동 활동 활동 활동 활동 활동 활동 활동 활동 활동 활동 활동 활동 활동\n",
            "\n",
            "\n",
            "\n",
            "원문 :  효력 효력 일부 화면 효력 준칙 명시 공공 기관 법률 정보통신 윤리 위원회 심의 정보통신 윤리 강령 정보통신망 이용촉진 및 정보보호 등에 관한 법률 지침 성립 이하 양식 전문 기관 실명 확인 인증 요청 화면 마이 페이지 열람 수정 기재 온라인 수정 항의 문제 통신망 노력 개인정보보호정책 적용 공식 이외 링크 개인정보보호정책 적용 금지 미풍 약속 계속 안정 최선 노력 누설 배포 법률 적법 항의 범위 전체 일부 통계 작성 취급 안전 확보 기술 대책 강구 일부 디 id 도용 디 id 허위 이외 컴퓨터 프로그램 바이러스 안정 방해 수신자 의사 공공질서 미풍양속 문장 외설 폭력 메시지 메일 공개 인격권 지적 재산권 침해 직원 관리자 사칭 명의 글 메일 영리 범죄 결부 불법 위배 주소 연락처 갱신 안내 주의 준수 방해 일부 기능 디 id 부여 디 id 소홀 부정 결과 디 id 유출 우려 사회 미풍양속 운영자 오인 우려 디 id 디 id 무단 도용 인지 항의 사실 안내 이익 일정 지연 통신망 저작권법 법률 포함 수정 조치 공개 내용물 판단 사전통지 비방 중상모략 명예 손상 보유 보유 탈퇴 요청 철회 달성 보유 종료 지체 파기 탈퇴 자격 상실 화면 마이 페이지 메뉴 탈퇴 원칙 페이지 메뉴 탈퇴 디 탈퇴 면책 천재지변 불가항력 면제 귀책사유 장애 사실 신뢰 \n",
            "\n",
            "실제 요약문 : 이하 양식 기관 실명 확인 인증 요청 항의 문제 항의 범위 전체 일부 통계 작성 일부 디 id 유출 우려 사회 미풍양속 운영자 오인 우려 디 id 디 id 도용 인지 항의 사실 안내 이익 일정 지연 \n",
            "\n",
            "예측 요약문 :  활동 활동 활동 영업 활동 활동 활동 활동 활동 활동 활동 활동 활동 활동 활동 활동 활동 활동 활동 활동 활동 활동 활동 활동 활동 활동 활동 활동 활동 활동 활동 활동 활동 활동 활동 활동 활동 활동 활동 활동 활동 활동 활동 활동 활동 활동 활동 활동 활동\n",
            "\n",
            "\n",
            "\n",
            "원문 :  개정 상호 영업 소 소재지 대표자 성명 사업자 연락처 전화 팩스 메일 초기 화면 관의 규제 법률 통신망 촉진 등에 관 법률 이하 통신망 위배 범위 개정 약관의 해석 명시 전기통신사업법 상 관습 성립 성립 당시 페이지 클릭 하면 간주 요청 이름 주민등록번호 연락처 르 이름 주민등록번호 아이핀 인증 실명 사용자 일체 주장 명의 이름 주민등록번호 아이핀 인증 도용 디 처벌 체결 행상 기술상 지장 원칙 접수 순서 아래 실명 명의 이용한 부여 이디르 부여 디 원칙 불가 인해 이디르 금지 미풍양속 계속 안정 최선 노력 안전 보안 취급 방침 공시 준수 제기 의견 불만 인정 제기 의견 불만 게시판 활용 메일 과정 결과 전달 실명 사실 근거 작성 허위 일체 주장 제반 준수 방해 명예 손상 안 취급 방침 의거 제외 부여 디 소홀 부정 결과 영업 활동 영업 활동 결과 영업 활동 손해배상 적법 손해배상 청구 명시 이용권 지위 양도 증여 담보 지적 재산권 침해 안 진흥 홍보 중개 알선 안 적법 조치 포함 제재 허위 주민등록번호 아이핀 인증 도용 환불 환급 무효 구매 금액 자동 환불 구매 구매 결제 환불 온라인 일체 의미 아래 수단 기본 무료 소유권 콘텐츠 구매 콘텐츠 일정 권한 이외 양도 판매 통신망 저작권법 포함 권리자 요청 조치 전 권리자 요청 사전통지 이동 거부 모욕 명예 손상 공공질서 미풍양속 불법 복제 해킹 조장 저작자 귀속 저작자 상업 취득 임 가공 판매 상업 페이지 프로모션 인정 메일 휴대폰 문자 휴대폰 긴급 필수 고지 문 답변 제외 메일 수신 거부 항의 메일 휴대폰 긴급 필수 고지 문 회신 제외 개선 대상 소개 추가 요구 화면 메일 메일 신한 수신 거부 메뉴 잔액 완료 구매 내역 취급 방침 보유 제외 데이터 소멸 \n",
            "\n",
            "실제 요약문 : 실명 사실 근거 작성 허위 일체 주장 제반 준수 방해 명예 손상 안 취급 방침 의거 제외 부여 디 소홀 부정 결과 영업 활동 영업 활동 결과 영업 활동 손해배상 적법 손해배상 청구 취득 가공 판매 상업 인정 메일 휴대폰 문자 휴대폰 \n",
            "\n",
            "예측 요약문 :  id 활동 활동 영업 활동 활동 활동 활동 활동 활동 활동 활동 활동 활동 활동 활동 활동 활동 활동 활동 활동 활동 활동 활동 활동 활동 활동 활동 활동 활동 활동 활동 활동 활동 활동 활동 활동 활동 활동 활동 활동 활동 활동 활동 활동 활동 활동 활동 활동\n",
            "\n",
            "\n",
            "\n",
            "원문 :  당 조건 당 적용 당 고지 당 확인 취소 탈퇴 간주 동시 효력 준칙 당 이용규 정 적용 명시 전기통신기본법 전기통신사업법 정보통신 윤리 영상 산업 센터 심의 정보통신 윤리 강령 프로그램 성립 신청자 온라인 당 소정 양식 요구 기록 완료 성립 당 취소 사람 명의 신청서 허위 기재 허위 서류 첨부 사회 안녕 질서 미풍양속 저해 당 해소 성립 유보 제반 용량 부족 기술상 장애 당 아래 아래 당 자체 개발 기관 협의 일체 당 정책 적용 당 당 당 당 당 신상 누설 배포 전기 통신 기본법 법률 국가 기관 요구 범죄 사상 정보통신 윤리 영상 산업 센터 요청 요청 당 공개 당 당 신청서 기재 간주 사용자 정보 보안 신청자 당 완료 순간 입력 유지 결과 당 기술상 지장 연중무휴 원칙 항의 정기 점검 당 날 예외 저장 당 보관 메시지 통신 메시지 국가 비상사태 정전 당 범위 설비 장애 불가항력 보관 통신 데이터 손실 당 부담 당 가입자 설정 등에 등의 가입자 가입자 설정 명칭 제반 가입자 권고 가입자 조치 임의 당 기대 손익 사실 신뢰 당 가입자 가입자 고의 과실 부담 홍보물 당 당 판단 활용 홍보물 당 제출 당 편집 이동 보유 사전통지 위배 상용 불법 음란 저속 판단 비방 중상 모략 명예 손상 공공질서 미풍양속 침해 민 형사 전적 부담 사용자 행동 규범 허위 차명 실명 판명 의심 합리 당 일부 인해 이익 당 입수 메일 수단 입수 형태 부담 당 부담 당 당 금지 미풍양속 계속 안정 노력 당 신상 누설 배포 전기 통신 국가 기관 요구 당 안전 당 신용정보 포함 보안 당 귀책사유 장애 요구 기입 유지 갱신 안 당 영리 당 당 복사 복제 번역 출판 방송 당 안 부정 범죄 범죄 풍속 사회 질서 해 위배 \n",
            "\n",
            "실제 요약문 : 신청자 당 완료 입력 유지 결과 당 등에 제반 조치 임의 당 기대 사실 신뢰 당 고의 과실 부담 당 메일 수단 형태 부담 당 부담 당 영리 당 당 복사 복제 번역 출판 방송 \n",
            "\n",
            "예측 요약문 :  활동 활동 활동 영업 활동 활동 활동 활동 활동 활동 활동 활동 활동 활동 활동 활동 활동 활동 활동 활동 활동 활동 활동 활동 활동 활동 활동 활동 활동 활동 활동 활동 활동 활동 활동 활동 활동 활동 활동 활동 활동 활동 활동 활동 활동 활동 활동 활동 활동\n",
            "\n",
            "\n",
            "\n",
            "원문 :  명시 안정 지속 지장 장애 수리 복구 안정 최선 요구 의견 불만 원활 보관 허락 사상 기관 요구 정보통신윤리위원회 요청 신용정보 사업자 신용정보 기관 예외 체결 편의 노력 지정 일자 납입 방해 데이터 저장 외부 침입 유출 누락 손실 백업 보관 복구 도움 백업 디 id 누출 누출 웹사이트 불법 시일 수정 보완 문제 설비 계정 소프트웨어 망 실 훼손 장애 초래 보충 수선 공사 소요 비용 부담 명시 이용권 지위 양도 증여 담보 도메인 도메인 유지비 납입 일자 도메인 유지비 납입 납부 이행 문제 도메인 대행 도메인 후 도메인 유지비 납부 도메인 도메인 후 신상 신상 최신 유지 이행 문제 지적 재산권 귀속 침해 금지 작성 저작물 지적 재산권 귀속 지적 재산권 침해 방문자 복제 송신 출판 배포 방송 영리 기술상 지장 연중무휴 원칙 정기 점검 업그레이드 날 일시 예정 작업 일시 긴급 점검 증설 교체 예고 일시 교체 판단 일시 유출 도용 부정 해제 조에 의거 대리인 고지 후 오작동 과다 장애 초래 사안 긴급 정지 후 사후 통보 취소 비용 부담 사실 납입 상호 성명 주소 종류 접속 형태 접속 회선 접속 선속 도메인 계정 설치 갱신 합의 만료 전일 갱신 의사표시 조건 연장 지위 승계 상속 합병 분할 영업 양수 지위 승계 날 이내 사업자 등록증 사본 주민등록증 사본 지위 승계 입증 서류 첨부 지정 방식 통보 조에 의거 정산 사전통지 위 거부 이용신 청서 기재 허위 판명 일반 원칙 세부 내역 조에 명기 납부 종류 치비 신규 개통 설치 지급 호스팅 종류 기본 납부 인지 이름 납부 통보 인지 이름 납부 인해 이익 신상 허위 변 지체 통보 갱신 용도 안 임의 임대 통신망 촉진 등에 관 법률 준수 스팸 불법 스팸 민형사 부담 \n",
            "\n",
            "실제 요약문 : 원활 보관 허락 사상 기관 요구 요청 사업자 기관 예외 데이터 저장 외부 침입 유출 누락 손실 디 id 누출 누출 설비 계정 소프트웨어 망 실 훼손 장애 초래 보충 수선 공사 소요 비용 부담 명시 이용권 지위 양도 증여 담보 신상 허위 지체 통보 갱신 용도 안 임의 임대 \n",
            "\n",
            "예측 요약문 :  양식 양식 불만 불만 불만 영업 활동 활동 활동 활동 활동 활동 활동 활동 활동 활동 활동 활동 활동 활동 활동 활동 활동 활동 활동 활동 활동 활동 활동 활동 활동 활동 활동 활동 활동 활동 활동 활동 활동 활동 활동 활동 활동 활동 활동 활동 활동 활동 활동\n",
            "\n",
            "\n",
            "\n",
            "원문 :  수행 재화 용역 구매 체결 재화 용역 품절 기술 사양 체결 재화 용역 재화 용역 일자 명시 현재 재화 용역 곳 몰이 양식 기입 후 의사표시 신청자 조제 이전 자격 상실 조제 자격 상실 후 경과 몰 예외 탈퇴 자격 상실 몰 탈퇴 요청 탈퇴 자격 정지 허위 몰이 몰 약정 지정 주소 불특정 게시판 개별 갈음 거래 영향 개별 조구 몰 구매 구매 재화 검색 선택 성립 조와 구매 미성년자 체결 법정 대리인 미성년자 법정 대리인 취소 고지 허위 기재 누락 오기 지급 몰 구매 재화 용역 대금 지급 가용 지급 재화 대금 명목 수수료 추가 징수 폰뱅킹 인터넷 뱅킹 메일 뱅킹 계좌 이체 수신확인통지 구매 취소 구매 수신확인통지 수신확인통지 의사표시 일치 수신확인통지 후 구매 취소 요청 배 송 전 요청 지체 요청 대금 지불 청약 철회 재화 공급 재화 공급 시기 약정 청약 날 이내 재화 배 송 주문 제작 포장 조치 몰이 재화 대금 일부 대금 일부 날 영업 이내 조치 재화 공급 진행 확인 조치 조환 급 구매 재화 품절 인도 지체 재화 대금 대금 날 영업 이내 환급 환급 조치 조청 약 철회 몰 재화 구매 체결 상거래 소비자보호 법률 서면 날 서면 재화 공급 재화 공급 재화 공급 시작 날 말 이내 청약 철회 청약 철회 상거래 소비자보호 법률 조청 약 철회 효과 재화 반환 영업 이내 지급 재화 대금 환급 몰이 재화 환급 지연 한때 지연 상거래 소비자보호 법률 시행령 조의 지연 이자율 산정 지연 이자 지급 범위 최소한 원가 입시 구매 이행 이행 구매 이전 확인 최소한 특정 고지 용도 단계 고지 예외 몰이 책임자 신원 소속 성명 전화번호 연락처 정보통신망 이용촉진 및 정보보호 등에 관한 법률 조제 항이 명시 고지 철회 몰이 열람 오류 정정 요구 지체 조치 오류 정정 요구 오류 정정 최소한 신용카드 은행 계좌 포함 분실 도난 유출 변조 달성 지체 파기 선택 설정 거절 구체 명시 필수 항목 거절 이유 거절 몰 금지 공 서양 속 지속 안정 재화 용역 최선 안전 인터넷 신용정보 포함 보안 몰이 용역 표시 공정 법률 소정 표시 배상 영리 발송 제외 안 도난 인지 몰 통보 몰 안내 재판권 준거 몰 상거래 분쟁 소송 제소 당시 주소 주소 소 관할 지방법원 전속 관할 제소 당시 주소 소가 외국 거주자 민사소송법 관할 법원 제기 몰 제기 상거래 소송 한국 적용 2월 적용 \n",
            "\n",
            "실제 요약문 : 재화 용역 품절 기술 사양 체결 재화 용역 몰 탈퇴 요청 탈퇴 불특정 게시판 개별 갈음 거래 개별 몰이 용역 표시 공정 법률 소정 표시 배상 제외 도난 인지 몰 통보 몰 안내 \n",
            "\n"
          ],
          "name": "stdout"
        },
        {
          "output_type": "error",
          "ename": "KeyError",
          "evalue": "ignored",
          "traceback": [
            "\u001b[0;31m---------------------------------------------------------------------------\u001b[0m",
            "\u001b[0;31mKeyError\u001b[0m                                  Traceback (most recent call last)",
            "\u001b[0;32m<ipython-input-93-971754d4f3e4>\u001b[0m in \u001b[0;36m<module>\u001b[0;34m()\u001b[0m\n\u001b[1;32m      2\u001b[0m     \u001b[0mprint\u001b[0m\u001b[0;34m(\u001b[0m\u001b[0;34m\"원문 : \"\u001b[0m\u001b[0;34m,\u001b[0m\u001b[0mseq2text\u001b[0m\u001b[0;34m(\u001b[0m\u001b[0mencoder_input_test\u001b[0m\u001b[0;34m[\u001b[0m\u001b[0mi\u001b[0m\u001b[0;34m]\u001b[0m\u001b[0;34m)\u001b[0m \u001b[0;34m+\u001b[0m \u001b[0;34m'\\n'\u001b[0m\u001b[0;34m)\u001b[0m\u001b[0;34m\u001b[0m\u001b[0;34m\u001b[0m\u001b[0m\n\u001b[1;32m      3\u001b[0m     \u001b[0mprint\u001b[0m\u001b[0;34m(\u001b[0m\u001b[0;34m\"실제 요약문 :\"\u001b[0m\u001b[0;34m,\u001b[0m\u001b[0mseq2summary\u001b[0m\u001b[0;34m(\u001b[0m\u001b[0mdecoder_input_test\u001b[0m\u001b[0;34m[\u001b[0m\u001b[0mi\u001b[0m\u001b[0;34m]\u001b[0m\u001b[0;34m)\u001b[0m\u001b[0;34m+\u001b[0m \u001b[0;34m'\\n'\u001b[0m\u001b[0;34m)\u001b[0m\u001b[0;34m\u001b[0m\u001b[0;34m\u001b[0m\u001b[0m\n\u001b[0;32m----> 4\u001b[0;31m     \u001b[0mprint\u001b[0m\u001b[0;34m(\u001b[0m\u001b[0;34m\"예측 요약문 :\"\u001b[0m\u001b[0;34m,\u001b[0m\u001b[0mdecode_sequence\u001b[0m\u001b[0;34m(\u001b[0m\u001b[0mencoder_input_test\u001b[0m\u001b[0;34m[\u001b[0m\u001b[0mi\u001b[0m\u001b[0;34m]\u001b[0m\u001b[0;34m.\u001b[0m\u001b[0mreshape\u001b[0m\u001b[0;34m(\u001b[0m\u001b[0;36m1\u001b[0m\u001b[0;34m,\u001b[0m \u001b[0msentence_max_len\u001b[0m\u001b[0;34m)\u001b[0m\u001b[0;34m)\u001b[0m\u001b[0;34m+\u001b[0m \u001b[0;34m'\\n'\u001b[0m\u001b[0;34m)\u001b[0m\u001b[0;34m\u001b[0m\u001b[0;34m\u001b[0m\u001b[0m\n\u001b[0m\u001b[1;32m      5\u001b[0m     \u001b[0mprint\u001b[0m\u001b[0;34m(\u001b[0m\u001b[0;34m\"\\n\"\u001b[0m\u001b[0;34m)\u001b[0m\u001b[0;34m\u001b[0m\u001b[0;34m\u001b[0m\u001b[0m\n",
            "\u001b[0;32m<ipython-input-91-c3026af711b2>\u001b[0m in \u001b[0;36mdecode_sequence\u001b[0;34m(input_seq)\u001b[0m\n\u001b[1;32m     15\u001b[0m         \u001b[0msampled_token_index\u001b[0m \u001b[0;34m=\u001b[0m \u001b[0mnp\u001b[0m\u001b[0;34m.\u001b[0m\u001b[0margmax\u001b[0m\u001b[0;34m(\u001b[0m\u001b[0moutput_tokens\u001b[0m\u001b[0;34m[\u001b[0m\u001b[0;36m0\u001b[0m\u001b[0;34m,\u001b[0m \u001b[0;34m-\u001b[0m\u001b[0;36m1\u001b[0m\u001b[0;34m,\u001b[0m \u001b[0;34m:\u001b[0m\u001b[0;34m]\u001b[0m\u001b[0;34m)\u001b[0m\u001b[0;34m\u001b[0m\u001b[0;34m\u001b[0m\u001b[0m\n\u001b[1;32m     16\u001b[0m         \u001b[0;31m# print(sampled_token_index)\u001b[0m\u001b[0;34m\u001b[0m\u001b[0;34m\u001b[0m\u001b[0;34m\u001b[0m\u001b[0m\n\u001b[0;32m---> 17\u001b[0;31m         \u001b[0msampled_token\u001b[0m \u001b[0;34m=\u001b[0m \u001b[0mtar_index_to_word\u001b[0m\u001b[0;34m[\u001b[0m\u001b[0msampled_token_index\u001b[0m\u001b[0;34m]\u001b[0m\u001b[0;34m\u001b[0m\u001b[0;34m\u001b[0m\u001b[0m\n\u001b[0m\u001b[1;32m     18\u001b[0m \u001b[0;34m\u001b[0m\u001b[0m\n\u001b[1;32m     19\u001b[0m         \u001b[0;32mif\u001b[0m\u001b[0;34m(\u001b[0m\u001b[0msampled_token\u001b[0m\u001b[0;34m!=\u001b[0m\u001b[0;34m'eostoken'\u001b[0m\u001b[0;34m)\u001b[0m\u001b[0;34m:\u001b[0m\u001b[0;34m\u001b[0m\u001b[0;34m\u001b[0m\u001b[0m\n",
            "\u001b[0;31mKeyError\u001b[0m: 0"
          ]
        }
      ]
    }
  ]
}