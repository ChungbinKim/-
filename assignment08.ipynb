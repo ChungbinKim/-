{
  "nbformat": 4,
  "nbformat_minor": 0,
  "metadata": {
    "colab": {
      "name": "assignment08.ipynb",
      "provenance": [],
      "collapsed_sections": [],
      "authorship_tag": "ABX9TyOLpb5aSzsEkF1bW4I2xneP",
      "include_colab_link": true
    },
    "kernelspec": {
      "name": "python3",
      "display_name": "Python 3"
    }
  },
  "cells": [
    {
      "cell_type": "markdown",
      "metadata": {
        "id": "view-in-github",
        "colab_type": "text"
      },
      "source": [
        "<a href=\"https://colab.research.google.com/github/ChungbinKim/-/blob/master/assignment08.ipynb\" target=\"_parent\"><img src=\"https://colab.research.google.com/assets/colab-badge.svg\" alt=\"Open In Colab\"/></a>"
      ]
    },
    {
      "cell_type": "code",
      "metadata": {
        "id": "otaRx06PMn-n",
        "colab_type": "code",
        "colab": {
          "base_uri": "https://localhost:8080/",
          "height": 1000
        },
        "outputId": "7e60a81c-2015-4c72-8d7f-5851bb1c6451"
      },
      "source": [
        "\n",
        "\n",
        "import matplotlib.pyplot as plt\n",
        "import numpy as np\n",
        "import random\n",
        "file_data   = \"mnist_test.csv\"\n",
        "handle_file = open(file_data, \"r\")\n",
        "data        = handle_file.readlines()\n",
        "handle_file.close()\n",
        "\n",
        "size_row    = 28    # height of the image\n",
        "size_col    = 28    # width of the image\n",
        "\n",
        "num_image   = len(data)\n",
        "count       = 0     # count for the number of images\n",
        "\n",
        "#\n",
        "# make a matrix each column of which represents an images in a vector form \n",
        "#\n",
        "list_image  = np.empty((size_row * size_col, num_image), dtype=float)\n",
        "list_label  = np.empty(num_image, dtype=int)\n",
        "\n",
        "for line in data:\n",
        "\n",
        "    line_data   = line.split(',')\n",
        "    label       = line_data[0]\n",
        "    im_vector   = np.asfarray(line_data[1:])\n",
        "\n",
        "    list_label[count]       = label\n",
        "    list_image[:, count]    = im_vector    \n",
        "\n",
        "    count += 1\n",
        "\n",
        "# \n",
        "# plot first 100 images out of 10,000 with their labels\n",
        "# \n",
        "f1 = plt.figure(1)\n",
        "\n",
        "for i in range(100):\n",
        "\n",
        "    label       = list_label[i]\n",
        "    im_vector   = list_image[:, i]\n",
        "    im_matrix   = im_vector.reshape((size_row, size_col))\n",
        "\n",
        "    plt.subplot(10, 10, i+1)\n",
        "    plt.title(label)\n",
        "    plt.imshow(im_matrix, cmap='Greys', interpolation='None')\n",
        "\n",
        "    frame   = plt.gca()\n",
        "    frame.axes.get_xaxis().set_visible(False)\n",
        "    frame.axes.get_yaxis().set_visible(False)\n",
        "\n",
        "plt.show()\n",
        "\n",
        "print(\"\\n\\n과제8-1\\n\\n\")\n",
        "#same label 값 더하기->평균 구하기->28x28\n",
        "f2 = plt.figure(2)\n",
        "count0=0\n",
        "count1=0\n",
        "count2=0\n",
        "count3=0\n",
        "count4=0\n",
        "count5=0\n",
        "count6=0\n",
        "count7=0\n",
        "count8=0\n",
        "count9=0\n",
        "a=list_image[:, 3]#0\n",
        "b=list_image[:, 2]#1\n",
        "c=list_image[:, 1]#2\n",
        "d=list_image[:, 18]#3\n",
        "e=list_image[:, 4]#4\n",
        "f=list_image[:, 8]#5 \n",
        "g=list_image[:, 11]#6\n",
        "h=list_image[:, 0]#7\n",
        "k=list_image[:, 61]#8\n",
        "j=list_image[:, 7]#9\n",
        "\n",
        "for i in range(10000):#10000개 이미지 \n",
        "\n",
        "    label       = list_label[i]\n",
        "    im_vector   = list_image[:, i]# 벡터 이미지 줄\n",
        "\n",
        "    if label==0:\n",
        "      count0=count0+1\n",
        "      a=(a+im_vector)/count0\n",
        "    if label==1:\n",
        "      count1=count1+1\n",
        "      b=(b+im_vector)/count1\n",
        "    if label==2:\n",
        "      count2=count2+1\n",
        "      c=(c+im_vector)/count2\n",
        "    if label==3:\n",
        "      count3=count3+1\n",
        "      d=(d+im_vector)/count3\n",
        "    if label==4:\n",
        "      count4=count4+1\n",
        "      e=(e+im_vector)/count4\n",
        "    if label==5:\n",
        "      count5=count5+1\n",
        "      f=(f+im_vector)/count5\n",
        "    if label==6:\n",
        "      count6=count6+1\n",
        "      g=(g+im_vector)/count6\n",
        "    if label==7:\n",
        "      count7=count7+1\n",
        "      h=(h+im_vector)/count7\n",
        "    if label==8:\n",
        "      count8=count8+1\n",
        "      k=(k+im_vector)/count8\n",
        "    if label==9:\n",
        "      count9=count9+1\n",
        "      j=(j+im_vector)/count9              \n",
        "\n",
        "# 다 더해서 평균 구한뒤 28*28만들기      \n",
        "im_matrix0 = a.reshape((size_row, size_col))#벡터 이미지 줄-> 벡터 이미지 행렬->이미지\n",
        "im_matrix1 = b.reshape((size_row, size_col))#벡터 이미지 줄-> 벡터 이미지 행렬->이미지\n",
        "im_matrix2 = c.reshape((size_row, size_col))#벡터 이미지 줄-> 벡터 이미지 행렬->이미지\n",
        "im_matrix3 = d.reshape((size_row, size_col))#벡터 이미지 줄-> 벡터 이미지 행렬->이미지\n",
        "im_matrix4 = e.reshape((size_row, size_col))#벡터 이미지 줄-> 벡터 이미지 행렬->이미지\n",
        "im_matrix5 = f.reshape((size_row, size_col))#벡터 이미지 줄-> 벡터 이미지 행렬->이미지\n",
        "im_matrix6 = g.reshape((size_row, size_col))#벡터 이미지 줄-> 벡터 이미지 행렬->이미지\n",
        "im_matrix7 = h.reshape((size_row, size_col))#벡터 이미지 줄-> 벡터 이미지 행렬->이미지\n",
        "im_matrix8 = k.reshape((size_row, size_col))#벡터 이미지 줄-> 벡터 이미지 행렬->이미지\n",
        "im_matrix9 = j.reshape((size_row, size_col))#벡터 이미지 줄-> 벡터 이미지 행렬->이미지   \n",
        "\n",
        "#출력\n",
        "plt.title(0)\n",
        "plt.imshow(im_matrix0, cmap='Greys', interpolation='None')\n",
        "frame   = plt.gca()\n",
        "frame.axes.get_xaxis().set_visible(False)\n",
        "frame.axes.get_yaxis().set_visible(False)\n",
        "plt.show()\n",
        "\n",
        "plt.title(1)\n",
        "plt.imshow(im_matrix1, cmap='Greys', interpolation='None')\n",
        "frame   = plt.gca()\n",
        "frame.axes.get_xaxis().set_visible(False)\n",
        "frame.axes.get_yaxis().set_visible(False)\n",
        "plt.show()\n",
        "\n",
        "\n",
        "plt.title(2)\n",
        "plt.imshow(im_matrix2, cmap='Greys', interpolation='None')\n",
        "frame   = plt.gca()\n",
        "frame.axes.get_xaxis().set_visible(False)\n",
        "frame.axes.get_yaxis().set_visible(False)\n",
        "plt.show()\n",
        "\n",
        "plt.title(3)\n",
        "plt.imshow(im_matrix3, cmap='Greys', interpolation='None')\n",
        "frame   = plt.gca()\n",
        "frame.axes.get_xaxis().set_visible(False)\n",
        "frame.axes.get_yaxis().set_visible(False)\n",
        "plt.show()\n",
        "\n",
        "plt.title(4)\n",
        "plt.imshow(im_matrix4, cmap='Greys', interpolation='None')\n",
        "frame   = plt.gca()\n",
        "frame.axes.get_xaxis().set_visible(False)\n",
        "frame.axes.get_yaxis().set_visible(False)\n",
        "plt.show()\n",
        "\n",
        "plt.title(5)\n",
        "plt.imshow(im_matrix5, cmap='Greys', interpolation='None')\n",
        "frame   = plt.gca()\n",
        "frame.axes.get_xaxis().set_visible(False)\n",
        "frame.axes.get_yaxis().set_visible(False)\n",
        "\n",
        "plt.show()\n",
        "\n",
        "plt.title(6)\n",
        "plt.imshow(im_matrix6, cmap='Greys', interpolation='None')\n",
        "frame   = plt.gca()\n",
        "frame.axes.get_xaxis().set_visible(False)\n",
        "frame.axes.get_yaxis().set_visible(False)\n",
        "plt.show()\n",
        "\n",
        "plt.title(7)\n",
        "plt.imshow(im_matrix7, cmap='Greys', interpolation='None')\n",
        "frame   = plt.gca()\n",
        "frame.axes.get_xaxis().set_visible(False)\n",
        "frame.axes.get_yaxis().set_visible(False)\n",
        "# 다 더해서 평균 구한뒤 28*28로 만들지\n",
        "plt.show()\n",
        "\n",
        "plt.title(8)\n",
        "plt.imshow(im_matrix8, cmap='Greys', interpolation='None')\n",
        "frame   = plt.gca()\n",
        "frame.axes.get_xaxis().set_visible(False)\n",
        "frame.axes.get_yaxis().set_visible(False)\n",
        "plt.show()\n",
        "\n",
        "plt.title(9)\n",
        "plt.imshow(im_matrix9, cmap='Greys', interpolation='None')\n",
        "frame   = plt.gca()\n",
        "frame.axes.get_xaxis().set_visible(False)\n",
        "frame.axes.get_yaxis().set_visible(False)\n",
        "plt.show()\n",
        "\n",
        "print(\"\\n\\n과제8-2\\n\\n\")\n",
        "\n",
        "#exp\n",
        "def sigmoid(x):\n",
        "    return 1 / (1 +np.exp(-x))\n",
        "#theta->N(0,1)\n",
        "for i in range(784):\n",
        "  a[i]=(random.randint(-100,100))/100\n",
        "#sum 저장   \n",
        "a00=0\n",
        "a01=0\n",
        "a02=0\n",
        "a03=0\n",
        "a04=0\n",
        "a05=0\n",
        "a06=0\n",
        "a07=0\n",
        "a08=0\n",
        "a09=0\n",
        "for j in range(10000): #10000번\n",
        "  #임시 저장\n",
        "  sum=0\n",
        "  a0=0\n",
        "  a1=0\n",
        "  a2=0\n",
        "  a3=0\n",
        "  a4=0\n",
        "  a5=0\n",
        "  a6=0\n",
        "  a7=0\n",
        "  a8=0\n",
        "  a9=0\n",
        "  \n",
        "  for i in range(784):\n",
        "    sum=sum+a[i]*(list_image[i,j]) #y=theta0*x0+theta1*x1...->z=sigmoid(y)\n",
        "    if(list_label[j]==0):\n",
        "      a0=sigmoid(sum)\n",
        "      a00=a00+a0\n",
        "    if(list_label[j]==1):\n",
        "      a1=sigmoid(sum)\n",
        "      a01=a01+a1\n",
        "    if(list_label[j]==2):\n",
        "      a2=sigmoid(sum)\n",
        "      a02=a02+a2\n",
        "    if(list_label[j]==3):\n",
        "      a3=sigmoid(sum)\n",
        "      a03=a03+a3\n",
        "    if(list_label[j]==4):\n",
        "      a4=sigmoid(sum)\n",
        "      a04=a04+a4\n",
        "    if(list_label[j]==5):\n",
        "      a5=sigmoid(sum)\n",
        "      a05=a05+a5\n",
        "    if(list_label[j]==6):\n",
        "      a6=sigmoid(sum)\n",
        "      a06=a06+a6\n",
        "    if(list_label[j]==7):\n",
        "      a7=sigmoid(sum)\n",
        "      a07=a07+a7\n",
        "    if(list_label[j]==8):\n",
        "      a8=sigmoid(sum)\n",
        "      a08=a08+a8\n",
        "    if(list_label[j]==9):\n",
        "      a9=sigmoid(sum)                \n",
        "      a09=a09+a9\n",
        "#z값평균,합친 값을 count,28*28으로 나눔\n",
        "z0= a00/count0/28/28\n",
        "z1= a01/count1/28/28\n",
        "z2= a02/count2/28/28\n",
        "z3= a03/count3/28/28\n",
        "z4= a04/count4/28/28\n",
        "z5= a05/count5/28/28\n",
        "z6= a06/count6/28/28\n",
        "z7= a07/count7/28/28\n",
        "z8= a08/count8/28/28\n",
        "z9= a09/count9/28/28\n",
        "print(\"0의 평균 z값:\",z0)\n",
        "print(\"1의 평균 z값:\",z1)\n",
        "print(\"2의 평균 z값:\",z2)\n",
        "print(\"3의 평균 z값:\",z3)\n",
        "print(\"4의 평균 z값:\",z4)\n",
        "print(\"5의 평균 z값:\",z5)\n",
        "print(\"6의 평균 z값:\",z6)\n",
        "print(\"7의 평균 z값:\",z7)\n",
        "print(\"8의 평균 z값:\",z8)\n",
        "print(\"9의 평균 z값:\",z9)\n"
      ],
      "execution_count": 113,
      "outputs": [
        {
          "output_type": "display_data",
          "data": {
            "image/png": "[encoded data removed]",
            "text/plain": [
              "<Figure size 432x288 with 100 Axes>"
            ]
          },
          "metadata": {
            "tags": [],
            "needs_background": "light"
          }
        },
        {
          "output_type": "stream",
          "text": [
            "\n",
            "\n",
            "과제8-1\n",
            "\n",
            "\n"
          ],
          "name": "stdout"
        },
        {
          "output_type": "display_data",
          "data": {
            "image/png": "[encoded data removed]",
            "text/plain": [
              "<Figure size 432x288 with 1 Axes>"
            ]
          },
          "metadata": {
            "tags": [],
            "needs_background": "light"
          }
        },
        {
          "output_type": "display_data",
          "data": {
            "image/png": "[encoded data removed]",
            "text/plain": [
              "<Figure size 432x288 with 1 Axes>"
            ]
          },
          "metadata": {
            "tags": [],
            "needs_background": "light"
          }
        },
        {
          "output_type": "display_data",
          "data": {
            "image/png": "[encoded data removed]",
            "text/plain": [
              "<Figure size 432x288 with 1 Axes>"
            ]
          },
          "metadata": {
            "tags": [],
            "needs_background": "light"
          }
        },
        {
          "output_type": "display_data",
          "data": {
            "image/png": "[encoded data removed]",
            "text/plain": [
              "<Figure size 432x288 with 1 Axes>"
            ]
          },
          "metadata": {
            "tags": [],
            "needs_background": "light"
          }
        },
        {
          "output_type": "display_data",
          "data": {
            "image/png": "[encoded data removed]",
            "text/plain": [
              "<Figure size 432x288 with 1 Axes>"
            ]
          },
          "metadata": {
            "tags": [],
            "needs_background": "light"
          }
        },
        {
          "output_type": "display_data",
          "data": {
            "image/png": "[encoded data removed]",
            "text/plain": [
              "<Figure size 432x288 with 1 Axes>"
            ]
          },
          "metadata": {
            "tags": [],
            "needs_background": "light"
          }
        },
        {
          "output_type": "display_data",
          "data": {
            "image/png": "[encoded data removed]",
            "text/plain": [
              "<Figure size 432x288 with 1 Axes>"
            ]
          },
          "metadata": {
            "tags": [],
            "needs_background": "light"
          }
        },
        {
          "output_type": "display_data",
          "data": {
            "image/png": "[encoded data removed]",
            "text/plain": [
              "<Figure size 432x288 with 1 Axes>"
            ]
          },
          "metadata": {
            "tags": [],
            "needs_background": "light"
          }
        },
        {
          "output_type": "display_data",
          "data": {
            "image/png": "[encoded data removed]",
            "text/plain": [
              "<Figure size 432x288 with 1 Axes>"
            ]
          },
          "metadata": {
            "tags": [],
            "needs_background": "light"
          }
        },
        {
          "output_type": "display_data",
          "data": {
            "image/png": "[encoded data removed]",
            "text/plain": [
              "<Figure size 432x288 with 1 Axes>"
            ]
          },
          "metadata": {
            "tags": [],
            "needs_background": "light"
          }
        },
        {
          "output_type": "stream",
          "text": [
            "\n",
            "\n",
            "과제8-2\n",
            "\n",
            "\n"
          ],
          "name": "stdout"
        },
        {
          "output_type": "stream",
          "text": [
            "/usr/local/lib/python3.6/dist-packages/ipykernel_launcher.py:205: RuntimeWarning: overflow encountered in exp\n"
          ],
          "name": "stderr"
        },
        {
          "output_type": "stream",
          "text": [
            "0의 평균 z값: 0.40738869201839106\n",
            "1의 평균 z값: 0.18511091882954642\n",
            "2의 평균 z값: 0.1832406630693327\n",
            "3의 평균 z값: 0.12518274561568074\n",
            "4의 평균 z값: 0.42768285241272286\n",
            "5의 평균 z값: 0.23788430336679062\n",
            "6의 평균 z값: 0.3154809685852372\n",
            "7의 평균 z값: 0.576856399490746\n",
            "8의 평균 z값: 0.1923551133877511\n",
            "9의 평균 z값: 0.469166715204382\n"
          ],
          "name": "stdout"
        }
      ]
    }
  ]
}